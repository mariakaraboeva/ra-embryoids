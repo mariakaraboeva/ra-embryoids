{
 "cells": [
  {
   "cell_type": "markdown",
   "id": "8a60ea13-b43e-4d24-8b79-1624df88dfe9",
   "metadata": {},
   "source": [
    "Code blocks inspired by Sanbomics (GitHub: mousepixels), M. Sanbouw (2023), optimised for current dataset"
   ]
  },
  {
   "cell_type": "code",
   "execution_count": 4,
   "id": "8aa24cb4-7acd-4134-913f-10b6174fb1fe",
   "metadata": {},
   "outputs": [],
   "source": [
    "import matplotlib.pyplot as plt\n",
    "import scanpy as sc\n",
    "import pandas as pd\n",
    "import numpy as np"
   ]
  },
  {
   "cell_type": "code",
   "execution_count": 5,
   "id": "b05dc563-0126-470d-b7f8-eb00feb6f771",
   "metadata": {},
   "outputs": [
    {
     "name": "stderr",
     "output_type": "stream",
     "text": [
      "/net/virus/linuxhome/vivek-group/maria/virtual/lib/python3.12/site-packages/anndata/_core/anndata.py:1756: UserWarning: Observation names are not unique. To make them unique, call `.obs_names_make_unique`.\n",
      "  utils.warn_names_duplicates(\"obs\")\n"
     ]
    }
   ],
   "source": [
    "alldata = sc.read_h5ad('new_data/annotated/alldata.h5ad')\n",
    "adata_backup = alldata.X.copy()\n",
    "alldata = alldata [:, ~alldata.var_names.duplicated(keep='first')].copy()\n",
    "alldata.obs_names_make_unique()"
   ]
  },
  {
   "cell_type": "code",
   "execution_count": 1,
   "id": "291220eb-8b00-4102-8889-47e30fdc54c4",
   "metadata": {},
   "outputs": [],
   "source": [
    "# !pip install goatools"
   ]
  },
  {
   "cell_type": "markdown",
   "id": "b91c9795-d2a5-48a8-b4d1-8bc6ed524145",
   "metadata": {},
   "source": [
    "This notebook performs Gene Ontology (GO) enrichment on genesets from DE analysis. To perform GO enrichment we normally use \n",
    "significantly DE genes (as list of gene names), unranked by significance but either upregulated or downregulated, separately. \n",
    "GO analysis is an overrepresentation analysis (ORA) which determines whether specific functions are more represented under a certain \n",
    "treatment than in an naive (background) set of genes and expected by chance. Gene Ontology is a database which stores terms of biological functions ranging from general (e.g. 'cell cycle') to specific ('auxin signalling in root') and they are linked to genes.\n",
    "Here we first get these gene-to-go term associations as a file, then get the hierarchy of GO terms (general to specific) as a directed acyclic graph, extract query and background genesets and run enrichment analysis via goatools. \n",
    "We also benchmarked goatools for this dataset against the webtool DAVID"
   ]
  },
  {
   "cell_type": "code",
   "execution_count": 6,
   "id": "051c6598-dd37-4f1b-b0b6-3a212828da84",
   "metadata": {},
   "outputs": [
    {
     "name": "stdout",
     "output_type": "stream",
     "text": [
      "  EXISTS: gene2go\n",
      "HMS:0:01:30.719513 612,793 annotations, 29,812 genes, 19,327 GOs, 1 taxids READ: gene2go \n",
      "  EXISTS: go-basic.obo\n",
      "go-basic.obo: fmt(1.2) rel(2025-02-06) 43,597 Terms\n"
     ]
    }
   ],
   "source": [
    "import goatools\n",
    "from goatools.base import download_ncbi_associations\n",
    "gene2go = download_ncbi_associations() #dowload the gene to GO associations\n",
    "from goatools.anno.genetogo_reader import Gene2GoReader\n",
    "geneid2gos_mouse = Gene2GoReader(gene2go, taxids=[10090]) #then get gene to go for mouse with all associations incl non protein coding\n",
    "from goatools.base import download_go_basic_obo\n",
    "from goatools.obo_parser import GODag\n",
    "from goatools.goea.go_enrichment_ns import GOEnrichmentStudyNS\n",
    "obo_fname = download_go_basic_obo()\n",
    "obodag = GODag(\"go-basic.obo\")\n",
    "geneid2gos = geneid2gos_mouse.get_ns2assc() # returns a dict of dicts with first level keys the main GO classifications the bological process (BP), \n",
    "#cellular component (CC) and molecular function (MF) and the second set of keys are the genes whereas the values of every gene are GO terms \n",
    "# irrespective of GO term hierarchy (which is instead present in the .obo file)"
   ]
  },
  {
   "cell_type": "markdown",
   "id": "1d87f553-0b72-4c99-957b-f3943c4abd33",
   "metadata": {},
   "source": [
    "In gene to GO files the associations are with Entrez (e.g. NCBI) gene IDs, thus often it is needed to convert the gene names to\n",
    "the suitable format through Biomart (pybiomart as Python implementation)"
   ]
  },
  {
   "cell_type": "code",
   "execution_count": 7,
   "id": "66ce5bef-7115-4516-8021-5d4d090c6791",
   "metadata": {},
   "outputs": [],
   "source": [
    "from pybiomart import Server\n",
    "server = Server(host='http://www.ensembl.org')\n",
    "\n",
    "mart = server.marts['ENSEMBL_MART_ENSEMBL']\n",
    "\n",
    "dataset = mart.datasets['mmusculus_gene_ensembl']\n",
    "\n",
    "results = dataset.query(\n",
    "    attributes=['entrezgene_id', 'mgi_symbol']\n",
    ") # this returns a pandas dataframe with the corresponding Entrez gene IDs\n"
   ]
  },
  {
   "cell_type": "code",
   "execution_count": 2,
   "id": "1974ced1-ed8e-4460-8200-1766b2d25bb8",
   "metadata": {},
   "outputs": [],
   "source": [
    "# !pip install pybiomart"
   ]
  },
  {
   "cell_type": "markdown",
   "id": "bb9a49a0-9b5c-4c5d-aaa7-e041d3e23a09",
   "metadata": {},
   "source": [
    "The background genes are all the genes appearing in the dataset as they are representative of all the genes in the treated and untreated condition yet are not completely unrelated to the dataset state. Also export background genes for input for DAVID. The query genes are already present in files as output of the Differential Expression notebook."
   ]
  },
  {
   "cell_type": "code",
   "execution_count": 8,
   "id": "607b6081-9279-4eea-803e-e2faf7a24b35",
   "metadata": {},
   "outputs": [],
   "source": [
    "backgr_genes = list(alldata.var['gene_name'].values)\n",
    "df = pd.DataFrame(backgr_genes, columns=[\"gene_name\"])\n",
    "df.to_csv(\"new_data/tables/background_genes.csv\", index=False) # export background geneset for DAVID"
   ]
  },
  {
   "cell_type": "code",
   "execution_count": 11,
   "id": "3b0921e6-5dce-42e0-b683-2708ea731ec1",
   "metadata": {},
   "outputs": [],
   "source": [
    "# geneset = pd.read_csv('go_neurons/go_geneset_high.csv') # gene name column can be fed to DAVID for query geneset\n",
    "# geneset=list(geneset['gene_name'])\n",
    "# geneset"
   ]
  },
  {
   "cell_type": "markdown",
   "id": "7149c87b-0302-4af8-bdc3-3e2436627173",
   "metadata": {},
   "source": [
    "Get the corresponding Entrez (NCBI) gene IDs for the gene symbols for input to goatools"
   ]
  },
  {
   "cell_type": "code",
   "execution_count": 12,
   "id": "19d60177-a82d-4312-b5c7-15022b6be752",
   "metadata": {},
   "outputs": [],
   "source": [
    "def get_assoc_geneset(df, my_genes):\n",
    "    '''\n",
    "    Map available gene names to Entrez IDs obtained from Biomart\n",
    "    Args:\n",
    "        df (pd.DataFrame): the output of Biomart\n",
    "        my_genes (list): list of str, the gene names of either the test or the background set\n",
    "    '''\n",
    "    filtered = (df[df['MGI symbol'].isin(my_genes)]).dropna()\n",
    "    new = list(filtered['NCBI gene (formerly Entrezgene) ID'].values)\n",
    "    new = [int(x) for x in new]\n",
    "    return new\n"
   ]
  },
  {
   "cell_type": "markdown",
   "id": "09bb04ab-8796-4084-9a94-7e88b16dbcea",
   "metadata": {},
   "source": [
    "We obtain our test and background genesets as IDs"
   ]
  },
  {
   "cell_type": "code",
   "execution_count": 14,
   "id": "8cb49f19-d7eb-44b2-aa4a-462e224ab688",
   "metadata": {},
   "outputs": [],
   "source": [
    "\n",
    "geneset = get_assoc_geneset(results, geneset) # converts them to entrez IDs\n",
    "backgr_genes = get_assoc_geneset(results, backgr_genes) # converts them to entrez IDs"
   ]
  },
  {
   "cell_type": "markdown",
   "id": "9896799d-bb40-4f6e-ba65-7cfdec20c89f",
   "metadata": {},
   "source": [
    "Here we obtain the associations for the background geneset, iterating through the outer keys (the namespaces BP, MF, CC) and the inner keys (all genes with GO associations). These associations are simply the associations as present in the database. This step does not test for enrichment of certain GO terms in the background geneset even if there are GO terms linked to each gene from it."
   ]
  },
  {
   "cell_type": "code",
   "execution_count": 15,
   "id": "80db7615-7d0a-48a2-827e-6aace06c6369",
   "metadata": {},
   "outputs": [],
   "source": [
    "go_associations={}\n",
    "for key in geneid2gos.keys():\n",
    "    first_level_dict = geneid2gos[key]\n",
    "    go_associations[key]={k: first_level_dict[k] for k in backgr_genes if k in first_level_dict}\n",
    "\n"
   ]
  },
  {
   "cell_type": "code",
   "execution_count": 1,
   "id": "7fefcff8-10c1-46be-b182-015cb1e32564",
   "metadata": {},
   "outputs": [],
   "source": [
    "# geneid2gos"
   ]
  },
  {
   "cell_type": "markdown",
   "id": "65370829-85bd-4c50-bf17-11f8b8cb8755",
   "metadata": {},
   "source": [
    "Here we initialise an object containing the components for GO analysis which goatools will use to evaluate the test geneset, e.g. the DAG, the background geneset and its GO associations. We use default values for multiple test correction method (e.g. False Discovery Rate Benjamin-Hochberg) and the significance threshold of 0.05. propagate_counts=False means that the goatools will identify only the terms directly associated with the genes from the geneset as opposed to these terms + all terms in an upstream position in the hierarchy connected to that term."
   ]
  },
  {
   "cell_type": "code",
   "execution_count": 16,
   "id": "85004e69-ebd4-4fdf-859e-031e42104955",
   "metadata": {},
   "outputs": [
    {
     "name": "stdout",
     "output_type": "stream",
     "text": [
      "\n",
      "Load BP Ontology Enrichment Analysis ...\n",
      " 84% 12,759 of 15,108 population items found in association\n",
      "\n",
      "Load CC Ontology Enrichment Analysis ...\n",
      " 88% 13,235 of 15,108 population items found in association\n",
      "\n",
      "Load MF Ontology Enrichment Analysis ...\n",
      " 80% 12,103 of 15,108 population items found in association\n"
     ]
    }
   ],
   "source": [
    "#-------------------------------------------------------actual analysis\n",
    "\n",
    "goeaobj = GOEnrichmentStudyNS(\n",
    "        backgr_genes, # List of genes in the specific dataset as background\n",
    "        go_associations, # geneid/GO associations \n",
    "        obodag, # Ontologies DAG\n",
    "        propagate_counts = False,\n",
    "        alpha = 0.05, # default significance cut-off\n",
    "        methods = ['fdr_bh']) # defult multiple-test correction method"
   ]
  },
  {
   "cell_type": "markdown",
   "id": "cb65bf51-137e-4d05-a4cb-1113b50010f3",
   "metadata": {},
   "source": [
    "We see that a certain GO term is duplicated many times - since it is associated with more than a single gene."
   ]
  },
  {
   "cell_type": "code",
   "execution_count": 20,
   "id": "4db61c8d-5166-459a-89e6-d045756f1eb2",
   "metadata": {},
   "outputs": [],
   "source": [
    "GO_items = []\n",
    "\n",
    "temp = goeaobj.ns2objgoea['BP'].assoc\n",
    "for item in temp:\n",
    "    GO_items += temp[item]\n",
    "    \n",
    "\n",
    "temp = goeaobj.ns2objgoea['CC'].assoc\n",
    "for item in temp:\n",
    "    GO_items += temp[item]\n",
    "    \n",
    "\n",
    "temp = goeaobj.ns2objgoea['MF'].assoc\n",
    "for item in temp:\n",
    "    GO_items += temp[item]"
   ]
  },
  {
   "cell_type": "code",
   "execution_count": 21,
   "id": "a36ec7a3-b76b-40fb-bb5d-c1ee9c77a917",
   "metadata": {},
   "outputs": [
    {
     "data": {
      "text/plain": [
       "246"
      ]
     },
     "execution_count": 21,
     "metadata": {},
     "output_type": "execute_result"
    }
   ],
   "source": [
    "GO_items.count('GO:0001525')"
   ]
  },
  {
   "cell_type": "code",
   "execution_count": 17,
   "id": "955b7502-5a1e-4863-b3cd-2f290b808da4",
   "metadata": {},
   "outputs": [
    {
     "name": "stdout",
     "output_type": "stream",
     "text": [
      "\n",
      "Runing BP Ontology Analysis: current study set of 1768 IDs.\n",
      " 85%  1,507 of  1,768 study items found in association\n",
      "100%  1,768 of  1,768 study items found in population(15108)\n",
      "Calculating 11,991 uncorrected p-values using fisher_scipy_stats\n",
      "  11,991 terms are associated with 12,753 of 15,108 population items\n",
      "   5,073 terms are associated with  1,507 of  1,768 study items\n",
      "  METHOD fdr_bh:\n",
      "       0 GO terms found significant (< 0.05=alpha) (  0 enriched +   0 purified): statsmodels fdr_bh\n",
      "       0 study items associated with significant GO IDs (enriched)\n",
      "       0 study items associated with significant GO IDs (purified)\n",
      "\n",
      "Runing CC Ontology Analysis: current study set of 1768 IDs.\n",
      " 90%  1,587 of  1,768 study items found in association\n",
      "100%  1,768 of  1,768 study items found in population(15108)\n",
      "Calculating 1,782 uncorrected p-values using fisher_scipy_stats\n",
      "   1,782 terms are associated with 13,230 of 15,108 population items\n",
      "     907 terms are associated with  1,587 of  1,768 study items\n",
      "  METHOD fdr_bh:\n",
      "       0 GO terms found significant (< 0.05=alpha) (  0 enriched +   0 purified): statsmodels fdr_bh\n",
      "       0 study items associated with significant GO IDs (enriched)\n",
      "       0 study items associated with significant GO IDs (purified)\n",
      "\n",
      "Runing MF Ontology Analysis: current study set of 1768 IDs.\n",
      " 80%  1,418 of  1,768 study items found in association\n",
      "100%  1,768 of  1,768 study items found in population(15108)\n",
      "Calculating 4,348 uncorrected p-values using fisher_scipy_stats\n",
      "   4,348 terms are associated with 12,098 of 15,108 population items\n",
      "   1,550 terms are associated with  1,418 of  1,768 study items\n",
      "  METHOD fdr_bh:\n",
      "       0 GO terms found significant (< 0.05=alpha) (  0 enriched +   0 purified): statsmodels fdr_bh\n",
      "       0 study items associated with significant GO IDs (enriched)\n",
      "       0 study items associated with significant GO IDs (purified)\n"
     ]
    }
   ],
   "source": [
    "res = goeaobj.run_study(geneset)"
   ]
  },
  {
   "cell_type": "code",
   "execution_count": 3,
   "id": "8cf64d08-98f4-4e31-b695-88a4d6b86c91",
   "metadata": {},
   "outputs": [],
   "source": [
    "# res"
   ]
  },
  {
   "cell_type": "code",
   "execution_count": 18,
   "id": "d9386b3b-e9e8-4522-8bb0-c57bc5713eb9",
   "metadata": {},
   "outputs": [
    {
     "name": "stdout",
     "output_type": "stream",
     "text": [
      "GO:0033629\tBP\te\tnegative regulation of cell adhesion mediated by integrin\t6/1768\t8/15108\t5.78e-05\t6\t6\t0.693\t13078, 17829, 19247, 20583, 83964, 245555\n"
     ]
    }
   ],
   "source": [
    "print(res[0])"
   ]
  },
  {
   "cell_type": "code",
   "execution_count": null,
   "id": "976c0338-6320-4673-a68a-bd8c640c06a4",
   "metadata": {},
   "outputs": [],
   "source": [
    "# res = pd.DataFrame(list(map(lambda x: [x.GO, ]"
   ]
  },
  {
   "cell_type": "markdown",
   "id": "dd991458-d096-4b7e-b94e-125ffd4571a3",
   "metadata": {},
   "source": [
    "This transforms goatools output into a DataFrame, which contains the names of the terms along with their main classifications (e.g. BP, MF and CC) and also their p-values and adjusted p-values along with the genes that they are associated with"
   ]
  },
  {
   "cell_type": "code",
   "execution_count": 26,
   "id": "bbddf23e-0d37-4703-b8cb-c215ca40acc7",
   "metadata": {},
   "outputs": [],
   "source": [
    "# goea_results_sig = res #[r for r in res if r.p_fdr_bh < 0.05]\n",
    "GO = pd.DataFrame(list(map(lambda x: [x.GO, x.goterm.name, x.goterm.namespace, x.p_uncorrected, x.p_fdr_bh,\\\n",
    "               x.ratio_in_study[0], x.ratio_in_study[1], GO_items.count(x.GO), x.study_items], res)), columns = ['GO', 'term', 'class', 'p', 'p_corr', 'n_genes',\\\n",
    "                                                'n_study', 'n_go', 'study_genes'])\n",
    "\n",
    "# GO = GO[GO.n_genes > 1]"
   ]
  },
  {
   "cell_type": "code",
   "execution_count": 27,
   "id": "5e6a5372-6dbd-4843-a0a6-a765c663c929",
   "metadata": {},
   "outputs": [
    {
     "data": {
      "text/html": [
       "<div>\n",
       "<style scoped>\n",
       "    .dataframe tbody tr th:only-of-type {\n",
       "        vertical-align: middle;\n",
       "    }\n",
       "\n",
       "    .dataframe tbody tr th {\n",
       "        vertical-align: top;\n",
       "    }\n",
       "\n",
       "    .dataframe thead th {\n",
       "        text-align: right;\n",
       "    }\n",
       "</style>\n",
       "<table border=\"1\" class=\"dataframe\">\n",
       "  <thead>\n",
       "    <tr style=\"text-align: right;\">\n",
       "      <th></th>\n",
       "      <th>GO</th>\n",
       "      <th>term</th>\n",
       "      <th>class</th>\n",
       "      <th>p</th>\n",
       "      <th>p_corr</th>\n",
       "      <th>n_genes</th>\n",
       "      <th>n_study</th>\n",
       "      <th>n_go</th>\n",
       "      <th>study_genes</th>\n",
       "    </tr>\n",
       "  </thead>\n",
       "  <tbody>\n",
       "    <tr>\n",
       "      <th>0</th>\n",
       "      <td>GO:0033629</td>\n",
       "      <td>negative regulation of cell adhesion mediated ...</td>\n",
       "      <td>biological_process</td>\n",
       "      <td>0.000058</td>\n",
       "      <td>0.69342</td>\n",
       "      <td>6</td>\n",
       "      <td>1768</td>\n",
       "      <td>8</td>\n",
       "      <td>{17829, 20583, 19247, 245555, 13078, 83964}</td>\n",
       "    </tr>\n",
       "    <tr>\n",
       "      <th>1</th>\n",
       "      <td>GO:0070663</td>\n",
       "      <td>regulation of leukocyte proliferation</td>\n",
       "      <td>biological_process</td>\n",
       "      <td>0.001600</td>\n",
       "      <td>1.00000</td>\n",
       "      <td>3</td>\n",
       "      <td>1768</td>\n",
       "      <td>3</td>\n",
       "      <td>{15242, 20852, 12798}</td>\n",
       "    </tr>\n",
       "    <tr>\n",
       "      <th>2</th>\n",
       "      <td>GO:0043372</td>\n",
       "      <td>positive regulation of CD4-positive, alpha-bet...</td>\n",
       "      <td>biological_process</td>\n",
       "      <td>0.001600</td>\n",
       "      <td>1.00000</td>\n",
       "      <td>3</td>\n",
       "      <td>1768</td>\n",
       "      <td>3</td>\n",
       "      <td>{12522, 22724, 105855}</td>\n",
       "    </tr>\n",
       "    <tr>\n",
       "      <th>3</th>\n",
       "      <td>GO:0003365</td>\n",
       "      <td>establishment of cell polarity involved in ame...</td>\n",
       "      <td>biological_process</td>\n",
       "      <td>0.001600</td>\n",
       "      <td>1.00000</td>\n",
       "      <td>3</td>\n",
       "      <td>1768</td>\n",
       "      <td>3</td>\n",
       "      <td>{75723, 56332, 27494}</td>\n",
       "    </tr>\n",
       "    <tr>\n",
       "      <th>4</th>\n",
       "      <td>GO:1900195</td>\n",
       "      <td>positive regulation of oocyte maturation</td>\n",
       "      <td>biological_process</td>\n",
       "      <td>0.001600</td>\n",
       "      <td>1.00000</td>\n",
       "      <td>3</td>\n",
       "      <td>1768</td>\n",
       "      <td>3</td>\n",
       "      <td>{12173, 20878, 64383}</td>\n",
       "    </tr>\n",
       "    <tr>\n",
       "      <th>...</th>\n",
       "      <td>...</td>\n",
       "      <td>...</td>\n",
       "      <td>...</td>\n",
       "      <td>...</td>\n",
       "      <td>...</td>\n",
       "      <td>...</td>\n",
       "      <td>...</td>\n",
       "      <td>...</td>\n",
       "      <td>...</td>\n",
       "    </tr>\n",
       "    <tr>\n",
       "      <th>18116</th>\n",
       "      <td>GO:0030626</td>\n",
       "      <td>U12 snRNA binding</td>\n",
       "      <td>molecular_function</td>\n",
       "      <td>1.000000</td>\n",
       "      <td>1.00000</td>\n",
       "      <td>0</td>\n",
       "      <td>1768</td>\n",
       "      <td>1</td>\n",
       "      <td>{}</td>\n",
       "    </tr>\n",
       "    <tr>\n",
       "      <th>18117</th>\n",
       "      <td>GO:0042610</td>\n",
       "      <td>CD8 receptor binding</td>\n",
       "      <td>molecular_function</td>\n",
       "      <td>1.000000</td>\n",
       "      <td>1.00000</td>\n",
       "      <td>1</td>\n",
       "      <td>1768</td>\n",
       "      <td>9</td>\n",
       "      <td>{14360}</td>\n",
       "    </tr>\n",
       "    <tr>\n",
       "      <th>18118</th>\n",
       "      <td>GO:0160186</td>\n",
       "      <td>phospholipase C inhibitor activity</td>\n",
       "      <td>molecular_function</td>\n",
       "      <td>1.000000</td>\n",
       "      <td>1.00000</td>\n",
       "      <td>0</td>\n",
       "      <td>1768</td>\n",
       "      <td>1</td>\n",
       "      <td>{}</td>\n",
       "    </tr>\n",
       "    <tr>\n",
       "      <th>18119</th>\n",
       "      <td>GO:0015203</td>\n",
       "      <td>polyamine transmembrane transporter activity</td>\n",
       "      <td>molecular_function</td>\n",
       "      <td>1.000000</td>\n",
       "      <td>1.00000</td>\n",
       "      <td>0</td>\n",
       "      <td>1768</td>\n",
       "      <td>3</td>\n",
       "      <td>{}</td>\n",
       "    </tr>\n",
       "    <tr>\n",
       "      <th>18120</th>\n",
       "      <td>GO:0032791</td>\n",
       "      <td>lead ion binding</td>\n",
       "      <td>molecular_function</td>\n",
       "      <td>1.000000</td>\n",
       "      <td>1.00000</td>\n",
       "      <td>0</td>\n",
       "      <td>1768</td>\n",
       "      <td>2</td>\n",
       "      <td>{}</td>\n",
       "    </tr>\n",
       "  </tbody>\n",
       "</table>\n",
       "<p>18121 rows × 9 columns</p>\n",
       "</div>"
      ],
      "text/plain": [
       "               GO                                               term  \\\n",
       "0      GO:0033629  negative regulation of cell adhesion mediated ...   \n",
       "1      GO:0070663              regulation of leukocyte proliferation   \n",
       "2      GO:0043372  positive regulation of CD4-positive, alpha-bet...   \n",
       "3      GO:0003365  establishment of cell polarity involved in ame...   \n",
       "4      GO:1900195           positive regulation of oocyte maturation   \n",
       "...           ...                                                ...   \n",
       "18116  GO:0030626                                  U12 snRNA binding   \n",
       "18117  GO:0042610                               CD8 receptor binding   \n",
       "18118  GO:0160186                 phospholipase C inhibitor activity   \n",
       "18119  GO:0015203       polyamine transmembrane transporter activity   \n",
       "18120  GO:0032791                                   lead ion binding   \n",
       "\n",
       "                    class         p   p_corr  n_genes  n_study  n_go  \\\n",
       "0      biological_process  0.000058  0.69342        6     1768     8   \n",
       "1      biological_process  0.001600  1.00000        3     1768     3   \n",
       "2      biological_process  0.001600  1.00000        3     1768     3   \n",
       "3      biological_process  0.001600  1.00000        3     1768     3   \n",
       "4      biological_process  0.001600  1.00000        3     1768     3   \n",
       "...                   ...       ...      ...      ...      ...   ...   \n",
       "18116  molecular_function  1.000000  1.00000        0     1768     1   \n",
       "18117  molecular_function  1.000000  1.00000        1     1768     9   \n",
       "18118  molecular_function  1.000000  1.00000        0     1768     1   \n",
       "18119  molecular_function  1.000000  1.00000        0     1768     3   \n",
       "18120  molecular_function  1.000000  1.00000        0     1768     2   \n",
       "\n",
       "                                       study_genes  \n",
       "0      {17829, 20583, 19247, 245555, 13078, 83964}  \n",
       "1                            {15242, 20852, 12798}  \n",
       "2                           {12522, 22724, 105855}  \n",
       "3                            {75723, 56332, 27494}  \n",
       "4                            {12173, 20878, 64383}  \n",
       "...                                            ...  \n",
       "18116                                           {}  \n",
       "18117                                      {14360}  \n",
       "18118                                           {}  \n",
       "18119                                           {}  \n",
       "18120                                           {}  \n",
       "\n",
       "[18121 rows x 9 columns]"
      ]
     },
     "execution_count": 27,
     "metadata": {},
     "output_type": "execute_result"
    }
   ],
   "source": [
    "GO.to_csv('new_data/tables/go.csv')"
   ]
  }
 ],
 "metadata": {
  "kernelspec": {
   "display_name": "Python 3 (ipykernel)",
   "language": "python",
   "name": "python3"
  },
  "language_info": {
   "codemirror_mode": {
    "name": "ipython",
    "version": 3
   },
   "file_extension": ".py",
   "mimetype": "text/x-python",
   "name": "python",
   "nbconvert_exporter": "python",
   "pygments_lexer": "ipython3",
   "version": "3.12.3"
  }
 },
 "nbformat": 4,
 "nbformat_minor": 5
}
