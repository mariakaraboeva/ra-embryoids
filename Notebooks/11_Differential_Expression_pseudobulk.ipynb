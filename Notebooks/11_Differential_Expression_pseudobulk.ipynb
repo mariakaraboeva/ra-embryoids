{
 "cells": [
  {
   "cell_type": "code",
   "execution_count": 2,
   "id": "1afbc75a-abac-4af2-8c8d-03785297fb87",
   "metadata": {},
   "outputs": [],
   "source": [
    "import matplotlib.pyplot as plt\n",
    "import scanpy as sc\n",
    "import numpy as np\n",
    "import pandas as pd\n",
    "from pydeseq2.dds import DeseqDataSet\n",
    "from pydeseq2.ds import DeseqStats\n",
    "import random \n",
    "import warnings"
   ]
  },
  {
   "cell_type": "markdown",
   "id": "0c24fed7-937c-4425-bc38-4765b1bae393",
   "metadata": {},
   "source": [
    "In this notebook we use the Python implementation of DESeq2, pydeseq2 to estimate differentially expressed genes between different conditions. In our dataset we do not have any replicates within a condition, so we create pseudoreplicates though this is the suboptimal variant. We pseudobulk the replicates through summation of gene counts and run pydeseq2 considering the main covariate, the condition. Finally, we generate gene lists from the DE tables to export for enrichment analysis."
   ]
  },
  {
   "cell_type": "code",
   "execution_count": 3,
   "id": "4dc8af17-4b7f-45d5-adb1-2c89a340e53f",
   "metadata": {},
   "outputs": [],
   "source": [
    "def subset_data(alldata, groups, obs): \n",
    "    \"\"\"\n",
    "    Subset Anndata to relevant samples for DE contrast\n",
    "\n",
    "    Args: \n",
    "        alldata (Anndata object): concatenated data with Leiden clustering and cell type annotation labels in .obs with all \n",
    "        genes, not only HVGs\n",
    "        groups (list): list of sample or cell type name (s) as strings, to subset\n",
    "        obs (str): which .obs column to subset at\n",
    "    Returns: \n",
    "        Anndata object: Copy of alldata, subset to the samples/cell type, with filtered lowly expressed genes \n",
    "    \"\"\"\n",
    "    new_alldata = alldata[alldata.obs[obs].isin(groups),:].copy()\n",
    "    sc.pp.filter_genes(new_alldata, min_cells = 10) # Filter out lowly expressed genes due to removal of large amount of cells\n",
    "    return new_alldata\n"
   ]
  },
  {
   "cell_type": "code",
   "execution_count": 4,
   "id": "96c15295-66a3-47dd-9ead-1d6dd7957cd3",
   "metadata": {},
   "outputs": [
    {
     "name": "stderr",
     "output_type": "stream",
     "text": [
      "/net/virus/linuxhome/vivek-group/maria/virtual/lib/python3.12/site-packages/anndata/_core/anndata.py:1756: UserWarning: Observation names are not unique. To make them unique, call `.obs_names_make_unique`.\n",
      "  utils.warn_names_duplicates(\"obs\")\n"
     ]
    }
   ],
   "source": [
    "alldata = sc.read_h5ad('new_data/annotated/alldata.h5ad') # comes with raw counts as .X\n",
    "alldata.var.index = alldata.var[\"gene_name\"]\n",
    "alldata = alldata [:, ~alldata.var_names.duplicated(keep='first')].copy()\n",
    "alldata_backup1=alldata.copy()\n"
   ]
  },
  {
   "cell_type": "markdown",
   "id": "112f3219-e39d-420d-818b-652a10bf8c91",
   "metadata": {},
   "source": [
    "In order to make a DE contrast we subset the data only to the conditions of interest which will be compared."
   ]
  },
  {
   "cell_type": "code",
   "execution_count": 5,
   "id": "ce541cfb-ad4c-4f58-95e9-3bae49236ffb",
   "metadata": {},
   "outputs": [
    {
     "name": "stderr",
     "output_type": "stream",
     "text": [
      "/net/virus/linuxhome/vivek-group/maria/virtual/lib/python3.12/site-packages/anndata/_core/anndata.py:1756: UserWarning: Observation names are not unique. To make them unique, call `.obs_names_make_unique`.\n",
      "  utils.warn_names_duplicates(\"obs\")\n"
     ]
    }
   ],
   "source": [
    "alldata=alldata_backup1.copy()\n",
    "samples=['20_nM_RA', '5000_nM_RA']\n",
    "alldata=subset_data(alldata, samples, 'sample')\n"
   ]
  },
  {
   "cell_type": "code",
   "execution_count": null,
   "id": "dbe09962-315d-439f-af6a-205c874924d0",
   "metadata": {},
   "outputs": [],
   "source": [
    "alldata"
   ]
  },
  {
   "cell_type": "markdown",
   "id": "612add53-e3d2-4e0f-bc43-84c0f02b4db2",
   "metadata": {},
   "source": [
    "We performed DE between certain conditions within specific cell types. Sometimes we merged similar cell types for the sake of comparing two conditions."
   ]
  },
  {
   "cell_type": "code",
   "execution_count": 6,
   "id": "55673d02-67fa-4535-8fc5-214ab14bbe24",
   "metadata": {},
   "outputs": [],
   "source": [
    "# sometimes may be needed to rename or merge cell type labels for the sake of a DE contrast\n",
    "mask = alldata.obs[\"manual_celltype_annotation\"].isin(\n",
    "    [\"Differentiating\\nNeurons\", \"Neural\\nProgenitors\"]\n",
    ")\n",
    "alldata.obs.loc[mask, \"manual_celltype_annotation\"] = \"Neurons\""
   ]
  },
  {
   "cell_type": "markdown",
   "id": "f68bd536-9327-4912-ad12-fe608d0b5c36",
   "metadata": {},
   "source": [
    "We also create plots visualising the DE groups on the embedding. Viewing the certain conditions separately sometimes is useful and helps to uncover previously unnoticeable cell abundancies in some clusters for these conditions"
   ]
  },
  {
   "cell_type": "code",
   "execution_count": null,
   "id": "db1f97f2-c428-47b7-8ca3-c74730cdaec5",
   "metadata": {},
   "outputs": [],
   "source": [
    "def plot(alldata, groups, obs, label):\n",
    "    '''\n",
    "    This function first creates plots to visualise the two conditions in the data with all their cell types on the UMAP embedding and then the two \n",
    "    conditions within only the cell type of interest. This is to decide if there are enough cells and if the DE groups are balanced \n",
    "    (e.g. condition 1 does not have much more cells in the cell type of interest).\n",
    "\n",
    "    Args:\n",
    "        alldata (Anndata object): data with raw counts in .X for pydeseq2, subset to first level subset\n",
    "        groups (list): list of str, groups compared in a DE contrast. Groups[0] is first in the contrast\n",
    "        obs (str): name of .obs column to visualise\n",
    "        label (None or str): the cell type or cluster the comparison is made in.\n",
    "    Returns:\n",
    "        pd.DataFrame with DE results and does not export it as a file\n",
    "    '''\n",
    "    fig, ax = plt.subplots(figsize=(4,3))\n",
    "    sc.pl.umap(alldata, color=[obs], ax=ax, show=False)\n",
    "    ax.set_title(f'{groups[0]} vs {groups[1]}', fontsize=12, weight='bold')\n",
    "    if label is not None:\n",
    "        ax.set_title(f'{label}\\n{groups[0]} vs {groups[1]}', fontsize=12, weight='bold')\n",
    "        filename=f'{groups[0]}-{groups[1]}_{label.replace(\"\\n\", \"_\")}.png'\n",
    "    else:\n",
    "        filename=f'{groups[0]}-{groups[1]}'\n",
    "    plt.savefig(new_data/plots/de/filename, dpi=300, bbox_inches='tight')\n",
    "    plt.show()"
   ]
  },
  {
   "cell_type": "code",
   "execution_count": null,
   "id": "bbd7d57a-5023-423d-b525-42e8f8daf92f",
   "metadata": {},
   "outputs": [],
   "source": [
    "plot(alldata, samples, 'sample', 'Neurons')"
   ]
  },
  {
   "cell_type": "markdown",
   "id": "093cbbfc-a166-4e89-94c7-a2947ace03d4",
   "metadata": {},
   "source": [
    "balancing_subset() covers the case where cells have differing representions by the corresponding conditions"
   ]
  },
  {
   "cell_type": "code",
   "execution_count": null,
   "id": "d8a07765-ff69-4fc5-a1d9-ca4f474ba00d",
   "metadata": {},
   "outputs": [],
   "source": [
    "def balancing_subset(cell_subset, groups): \n",
    "    '''\n",
    "    This function subsets the larger group of cells such as to become equal to the smaller group and then filters out underexpressed genes.\n",
    "\n",
    "    Args:\n",
    "        cell_subset (Anndata_object): data subset to the groups. Should have normalised counts in .X for the sc.rank_genes_groups()\n",
    "        groups (list): list of str, the groups to make balanced\n",
    "    Returns:\n",
    "        Anndata_object: copy of data object with balanced groups\n",
    "    '''\n",
    "    #how many cells the sample has in this obj\n",
    "    cells = cell_subset.obs['sample'].value_counts()\n",
    "    s1=groups[0]\n",
    "    s2=groups[1]\n",
    "    n_1 = cells[s1]\n",
    "    n_2 = cells[s2]\n",
    "    np.random.seed(42)\n",
    "    #subset the larger sample such that it has equal amount cells to the other one\n",
    "    keep_indices_1 = cell_subset.obs[cell_subset.obs['sample'] == s1].sample(n=n_2).index\n",
    "    keep_indices_2 = cell_subset.obs[cell_subset.obs['sample'] == s2].index\n",
    "    k = list(keep_indices_2) +list(keep_indices_1)\n",
    "    #get the final obj\n",
    "    balanced_subset = cell_subset[cell_subset.obs_names.isin(k), :].copy()\n",
    "    #filter out underrepresented genes\n",
    "    sc.pp.filter_genes(balanced_subset,min_cells=10)\n",
    "    return balanced_subset.copy()"
   ]
  },
  {
   "cell_type": "markdown",
   "id": "cc8cff56-4644-4462-9e1d-febda5f8802d",
   "metadata": {},
   "source": [
    "We subset the condition-subset object to a single cell type, optionally"
   ]
  },
  {
   "cell_type": "code",
   "execution_count": 7,
   "id": "213306f7-e807-4cf1-8b5e-476adc44bff9",
   "metadata": {},
   "outputs": [
    {
     "name": "stderr",
     "output_type": "stream",
     "text": [
      "/net/virus/linuxhome/vivek-group/maria/virtual/lib/python3.12/site-packages/scanpy/preprocessing/_simple.py:287: ImplicitModificationWarning: Trying to modify attribute `.var` of view, initializing view as actual.\n",
      "  adata.var[\"n_cells\"] = number\n"
     ]
    }
   ],
   "source": [
    "cells=['Hematoendothelial\\nProgenitors']\n",
    "subset_data(alldata, cells, 'manual_celltype_annotation')"
   ]
  },
  {
   "cell_type": "code",
   "execution_count": null,
   "id": "b4f24660-decb-410b-b80b-61224f749227",
   "metadata": {},
   "outputs": [],
   "source": [
    "cell_subset"
   ]
  },
  {
   "cell_type": "markdown",
   "id": "14ceb779-4f72-42a5-a86b-1f79e5538d79",
   "metadata": {},
   "source": [
    "Define the function that makes pseudoreplicates and pseudobulks. To make a pseudoreplicate, the data is subset one condition at a time. This condition can contain something like 5000 cells. These cells are randomly shuffled so that we ensure the pseudoreplicates have consistent representation of all the intrinsic variation in the condition. "
   ]
  },
  {
   "cell_type": "code",
   "execution_count": null,
   "id": "06c7045f-920d-4ef5-b360-a4836bb0f2e6",
   "metadata": {},
   "outputs": [],
   "source": [
    "# IMPORTANT: Code block by Sanbomics (GitHub: mousepixels), M. Sanbouw (2023). Docstring and modifications by mariakaraboeva, for readability\n",
    "def pseudoreplicates(cell_subset, n, condition, labels, genes_var, batch_key=None):\n",
    "    \"\"\"\n",
    "    Create pseudoreplicates, and pseudobulk them by summing all gene counts. This function creates pseudoreplicates on already subset Anndata \n",
    "    objects. \n",
    "    \n",
    "    Args:\n",
    "        cell_subset (Anndata object): Concatenated data subset to cell type and to condition of interest (by labels in .obs)\n",
    "        n (int): number of replicates desired. Pseudoreplicates should have more than 200 cells each.\n",
    "        condition (str): condition or any item in the data that comparison is done on, stored in .obs\n",
    "        labels (str): any item the Anndata object is subset to and the compariosn is done within it; as stored in .obs\n",
    "        genes_var (str or list): gene names or IDs as stored in .var for transfer to the new object\n",
    "        batch_key (str): the batch .obs column, if present\n",
    "\n",
    "    Returns:\n",
    "        list: List of Anndata objects. Each of these objects represents one pseudobulk of one condition within the cell type of the input\n",
    "        object. \n",
    "\n",
    "    \"\"\"\n",
    "    \n",
    "    psreplicates_all_conds = []\n",
    "    for c in cell_subset.obs[condition].unique(): # in cell subset eg celltype Neurons. Looking at indiv condition eg 20_nM_RA\n",
    "        cond_cell_subset = cell_subset[cell_subset.obs[condition] == c] #Sometimes two cell types within one condition can be compared, if justified. \n",
    "        # then labels and condition variables can exchange meanings, e.g. put cell type .obs column name in place of condition and the condition .obs column name\n",
    "        # in the labels slot\n",
    "        \n",
    "        # samp_cell_subset.X = samp_cell_subset.layers['counts'] #make sure to use raw data I use X as in the saved object which is raw\n",
    "        \n",
    "        indices = list(cond_cell_subset.obs_names) # so that pseudoreplicates are made containing random representation of the \n",
    "        #cells within a single sample to make the replicates\n",
    "        random.seed(4)\n",
    "        random.shuffle(indices)\n",
    "        indices = np.array_split(np.array(indices), n) \n",
    "        \n",
    "        for i, pseudo_rep in enumerate(indices): #i is the number of the partition of the single sample, so 1 2 or 3 in this case\n",
    "        \n",
    "            psrep_adata = sc.AnnData(X = cond_cell_subset[cond_cell_subset.obs_names.isin(pseudo_rep)].X.sum(axis = 0), var = cond_cell_subset.var[genes_var])\n",
    "            psrep_adata.obs_names=[c+'_'+str(i)]\n",
    "            psrep_adata.obs[condition] = c\n",
    "            psrep_adata.obs['replicate'] = i\n",
    "            if batch_key is not None:\n",
    "                psrep_adata.obs[batch_key] = cond_cell_subset.obs[batch_key]\n",
    "            psrep_adata.obs[labels]=cond_cell_subset.obs[labels]\n",
    "            #one pseudoreplicate anndata always has 1 row\n",
    "            psreplicates_all_conds.append(psrep_adata) # does not differentiate between the samples all samples in one place ...for one celltype however\n",
    "    return psreplicates_all_conds"
   ]
  },
  {
   "cell_type": "code",
   "execution_count": null,
   "id": "ec00b1b4-5c84-4919-af42-cb8b408f50f4",
   "metadata": {},
   "outputs": [],
   "source": [
    "psreplicates=pseudoreplicates(cell_subset)"
   ]
  },
  {
   "cell_type": "code",
   "execution_count": null,
   "id": "e76e68cb-23a3-4c16-85db-40239498df88",
   "metadata": {},
   "outputs": [],
   "source": [
    "psreplicates"
   ]
  },
  {
   "cell_type": "markdown",
   "id": "c336e951-dd8c-4cb7-a6f5-afe38586fe44",
   "metadata": {},
   "source": [
    "Obtain the final Anndata object containing pseudobulks; If 10 pseudoreplicates were made for a single condition, then an Anndata object with two conditions will have 20 \"cells\" and the original number of genes (e.g. 18000). "
   ]
  },
  {
   "cell_type": "code",
   "execution_count": null,
   "id": "efa69e92-7031-4d26-88c7-05e7999b31ad",
   "metadata": {},
   "outputs": [],
   "source": [
    "cells = sc.concat(psreplicates)\n",
    "counts = pd.DataFrame(cells.X, columns = cells.var_names) #examine to see if raw counts, should be integers "
   ]
  },
  {
   "cell_type": "code",
   "execution_count": null,
   "id": "22a372cd-ec61-4a1a-90cb-8fe62576d220",
   "metadata": {},
   "outputs": [],
   "source": [
    "counts"
   ]
  },
  {
   "cell_type": "markdown",
   "id": "581acdbd-05b4-4801-9efa-a5d1933b8735",
   "metadata": {},
   "source": [
    "Here one can specify the design formula for the DE assessment or input a design matrix.\n",
    "DESeq2 (here PyDESeq2) is an R Bioconductor package, originally developed for bulk RNAseq which robustly identifies DE genes by shrinking dispersion estimates, modulating this shrinking in relation to data specifities ultimately facilitating the sharing of information between genes to gain a global insight about the gene expression variation in the data. It models negatively binomial (raw) counts directly. To estimate the significance of the log2fold changes PyDESeq2 uses Wald tests."
   ]
  },
  {
   "cell_type": "code",
   "execution_count": null,
   "id": "b1804b06-a84f-4483-83ae-6526e84b26bf",
   "metadata": {},
   "outputs": [],
   "source": [
    "deseq_dataset = DeseqDataSet(\n",
    "    counts = counts,\n",
    "    metadata=cells.obs,\n",
    "    design_factors='sample') # condition or a formula of covariates"
   ]
  },
  {
   "cell_type": "markdown",
   "id": "dbc1d097-5bfc-483c-b400-272ca2c401ef",
   "metadata": {},
   "source": [
    "Min cells=2 for underrepresented genes as the entire object has something like 20 cells."
   ]
  },
  {
   "cell_type": "code",
   "execution_count": null,
   "id": "f7e82ea4-075e-4ae7-a065-f9b4168aceb5",
   "metadata": {},
   "outputs": [],
   "source": [
    "sc.pp.filter_genes(deseq_dataset, min_cells = 2) # no underrepresented genes which can have small variance"
   ]
  },
  {
   "cell_type": "code",
   "execution_count": null,
   "id": "309ace97-065a-495b-8530-3fdaa13b17f0",
   "metadata": {},
   "outputs": [],
   "source": [
    "deseq_dataset.deseq2()"
   ]
  },
  {
   "cell_type": "markdown",
   "id": "1a0077b6-1fd2-46f2-8cef-c77cbd9ca854",
   "metadata": {},
   "source": [
    "Here we visualise if there is any difference of interest between these condition-derived pseudobulks prior to running DE analysis"
   ]
  },
  {
   "cell_type": "code",
   "execution_count": null,
   "id": "f31b6c36-3da8-4464-9559-861cca820689",
   "metadata": {},
   "outputs": [],
   "source": [
    "def pca(deseq_dataset, groups, label):\n",
    "    '''\n",
    "    Plot pseudobulks in PCA space\n",
    "\n",
    "    Args:\n",
    "        deseq_dataset (Anndata object): data with pseudobulks after processing by DESeq\n",
    "        groups (list): list of str, the groups\n",
    "        label (str): the cell type within which the compariosn is made\n",
    "    '''\n",
    "    sc.tl.pca(deseq_dataset)\n",
    "    fig, ax = plt.subplots(figsize=(4,3))\n",
    "    sc.pl.pca(deseq_dataset, color = 'sample', size = 200, ax=ax, show=False) \n",
    "    ax.set_title(f'{label} {groups[0]} vs {groups[1]}', fontsize=12, weight='bold')\n",
    "    plt.savefig(f'new_data/plots/de/{label.str_replace('\\n', '_')}_{groups[0]}-{groups[1].png', dpi=300, bbox_inches='tight')\n",
    "    plt.show()"
   ]
  },
  {
   "cell_type": "markdown",
   "id": "970d9fac-bf34-46ce-af3c-c40ff10fc09c",
   "metadata": {},
   "source": [
    "This outputs the final DE results which include log2fold changes and adjusted p-values for multiple testing."
   ]
  },
  {
   "cell_type": "code",
   "execution_count": null,
   "id": "634a1b83-8442-494e-8275-2074272b1b1c",
   "metadata": {},
   "outputs": [],
   "source": [
    "de_stats = DeseqStats(deseq_dataset, n_cpus=8, contrast=('sample', 'Mesoderm', 'Neural\\nProgenitors'))\n",
    "\n",
    "de_stats.summary()"
   ]
  },
  {
   "cell_type": "code",
   "execution_count": null,
   "id": "cd391bb4-5187-4250-b07e-f85080d2321d",
   "metadata": {},
   "outputs": [],
   "source": [
    "df_stats = de_stats.results_df"
   ]
  },
  {
   "cell_type": "markdown",
   "id": "48e8c489-d63e-4f1d-9164-e1f99f0a8711",
   "metadata": {},
   "source": [
    "Some genes can have too little variance to have an estimate of padj and they can be removed but ideally they are not present"
   ]
  },
  {
   "cell_type": "code",
   "execution_count": null,
   "id": "78543b76-5b39-4a69-9c94-bee20e70b2de",
   "metadata": {},
   "outputs": [],
   "source": [
    "df_stats = df_stats.dropna(subset=[\"padj\"]) "
   ]
  },
  {
   "cell_type": "markdown",
   "id": "b230183a-d60b-4206-9764-d2c40344e748",
   "metadata": {},
   "source": [
    "Sort the genes by their rank estimated by pydeseq2"
   ]
  },
  {
   "cell_type": "code",
   "execution_count": null,
   "id": "86237a4d-0fb2-4cba-bf59-c05ae5b38290",
   "metadata": {},
   "outputs": [],
   "source": [
    "df_stats=df_stats.sort_values('stat', ascending = False)"
   ]
  },
  {
   "cell_type": "code",
   "execution_count": null,
   "id": "fe368358-a647-491f-b95d-fed274d18804",
   "metadata": {},
   "outputs": [],
   "source": [
    "df_stats.isna().sum()"
   ]
  },
  {
   "cell_type": "markdown",
   "id": "4dadd87c-5c99-4ce1-a727-9658662fd704",
   "metadata": {},
   "source": [
    "Export the DE genes dataframe"
   ]
  },
  {
   "cell_type": "code",
   "execution_count": null,
   "id": "fb43bce4-dff3-4475-95d8-cee204519f3d",
   "metadata": {},
   "outputs": [],
   "source": [
    "df_stats.to_csv('new_data/tables/df_stats.csv')"
   ]
  },
  {
   "cell_type": "code",
   "execution_count": 2,
   "id": "bea856dd-c7b1-49ea-9f2a-3196bf5284d6",
   "metadata": {},
   "outputs": [],
   "source": [
    "def get_stats(t_stats):\n",
    "    # code snippet available in Annotation.ipynb\n",
    "    epsilon = 1e-300\n",
    "    t_stats['pvals_adj'] = t_stats['pvals_adj'].replace(0, epsilon)\n",
    "    t_stats['rank']=-np.log10(t_stats.pvals_adj)*t_stats.logfoldchanges\n",
    "    t_stats = t_stats.sort_values('logfoldchanges', ascending=False)\n",
    "    t_stats.reset_index(inplace=True)\n",
    "    return t_stats\n",
    "balanced_subset=balancing_subset(cell_subset, sample_list)\n",
    "balanced_subset\n",
    "\n",
    "def scanpy_de(alldata_subset, obs, groups, unbalanced=False):\n",
    "    '''\n",
    "    Perform DE with scanpy rank_genes_groups (not generally recommended)\n",
    "    Args:\n",
    "        alldata_subset (Anndata object): the subset object which can be either the output of balancing_subset() or not\n",
    "        obs (str): the name of the .obs slot the conditions are stored in\n",
    "        groups (list): list of str, the conditions being compared\n",
    "\n",
    "    Returns:\n",
    "        pd.DataFrame: the output dataframe of sc.rank_genes_groups()\n",
    "        \n",
    "    '''\n",
    "    if unbalanced:\n",
    "        alldata_subset=balancing_subset(cell_subset, groups)\n",
    "    sc.tl.rank_genes_groups(alldata_subset, groupby=obs, method='t-test_overestim_var', key_added='t-test_overestim_var')\n",
    "    de_result = sc.get.rank_genes_groups_df(alldata_subset, group=None, key=\"t-test_overestim_var\")\n",
    "    for c in groups:\n",
    "        df=de_result[de_result[obs] == c]\n",
    "        df=(get_stats(df))\n",
    "        df.to_csv(f'new_data/tables/t-test_{c}-{groups[0]}-{groups[1]}.csv')\n",
    "    return de_result\n",
    "        \n"
   ]
  },
  {
   "cell_type": "markdown",
   "id": "8d9ecc8a-0717-46dc-b3c4-51f8322a0e15",
   "metadata": {},
   "source": [
    "Import gene lists of interest to make heatmaps"
   ]
  },
  {
   "cell_type": "code",
   "execution_count": null,
   "id": "bb58a777-26a5-4b68-b33c-db793dc56071",
   "metadata": {},
   "outputs": [],
   "source": [
    "# gene_lists=pd.read_csv('new_data/tables/gene_lists.csv') "
   ]
  },
  {
   "cell_type": "markdown",
   "id": "29a21202-c767-4126-a8ba-353988496a68",
   "metadata": {},
   "source": [
    "The type of heatmap made here is useful as it visualises the separate cells in the non-pseudobulked (still subset to conditions \n",
    "and/or cell type) dataset. Then it is possible to see if this gene with a high log2fold change for example, is expressed consistently in all cells or strongly in a subgroup of cells."
   ]
  },
  {
   "cell_type": "code",
   "execution_count": null,
   "id": "4a335cd8-e01e-403f-81f7-29db3560801a",
   "metadata": {},
   "outputs": [],
   "source": [
    "def make_heatmaps(cell_subset, gene_lists, column, groups, label):\n",
    "    '''\n",
    "    This function makes heatmaps of DE genes of interest using the scanpy built-in pl.heatmap function. The gene lists should be in the same format\n",
    "    as var_names (e.g. gene symbols) and all genes as present in the dataframe should be present also in the Anndata object.\n",
    "    \n",
    "    Args:\n",
    "        cell_subset (Anndata object): The data which contains only the subset (e.g. celltype) in which the DE contrast of interest was made\n",
    "        gene_lists (pd.DataFrame): Dataframe with custom gene lists of interest (usually plot significantly DE genes as it is not clear from the plots if \n",
    "        a gene is significant)\n",
    "        column (str): column name to get from DataFrame which contains a single gene list of interest\n",
    "        groups (str): the groups, .obs column in cell_subset which is compared in the heatmap e.g. the DE genes between the two conditions of the DE contrast\n",
    "        label (str): The cell type/cluster or condition in which the DE contrast was performed\n",
    "        \n",
    "    Returns:\n",
    "        None\n",
    "    '''\n",
    "    de_genes = gene_lists[column].dropna().tolist()\n",
    "    sc.tl.dendrogram(cell_subset, groupby=obs)\n",
    "    fig, ax = plt.subplots()\n",
    "    p=sc.pl.heatmap(cell_subset, var_names=de_genes, groupby=groups, cmap='viridis', standard_scale='var', show=False)\n",
    "    plt.title(f\"{label}\", weight='bold', fontsize=12)\n",
    "    plt.savefig(f'new_data/plots/de/de_heatmap_{column}_{label.str_replace('\\n', '_')}.png', dpi=300, bbox_inches='tight')\n",
    "    plt.show()\n"
   ]
  },
  {
   "cell_type": "markdown",
   "id": "b78d5a5d-0fe3-4393-8325-c97a8045b886",
   "metadata": {},
   "source": [
    "There is also the option to create Venn diagrams to visualise overlaps of genesets between output DE genes of interest between \n",
    "contrasts"
   ]
  },
  {
   "cell_type": "code",
   "execution_count": null,
   "id": "d953ba05-b083-4299-b6d1-18f6efd84f1c",
   "metadata": {},
   "outputs": [],
   "source": [
    "from matplotlib_venn import venn2, venn3\n"
   ]
  },
  {
   "cell_type": "code",
   "execution_count": null,
   "id": "779a23a7-9b1d-4af2-81ed-97907aa981d4",
   "metadata": {},
   "outputs": [],
   "source": [
    "def venn(gene_lists, title):\n",
    "    '''\n",
    "    Create venn plots from dataframe with gene lists.\n",
    "    Args:\n",
    "        gene_lists (pd.DataFrame): Dataframe with 2 or 3 gene lists (gene lists do not have to be equal length). Ideally dataframe column names are\n",
    "        meaningful for the sets.\n",
    "    Returns:\n",
    "        None\n",
    "    '''\n",
    "    sets=[]\n",
    "    for column in gene_lists.columns:\n",
    "        genes=set(gene_lists[column].dropna().tolist())\n",
    "        sets.append(genes)\n",
    "    if len(sets)==3:\n",
    "        venn3(sets, set_labels=(gene_lists.columns[0].title(), gene_lists.columns[1].title(), gene_lists.columns[2].title()))\n",
    "    if len(sets)==2:\n",
    "        venn2(sets, set_labels=(gene_lists.columns[0].title(), gene_lists.columns[1].title()))\n",
    "    plt.title('title', weight='bold', fontsize=12)\n",
    "    plt.show()\n"
   ]
  },
  {
   "cell_type": "markdown",
   "id": "5eb1eb86-7a59-4139-86e3-1844f934efae",
   "metadata": {},
   "source": [
    "A number of reasons why the following way of correcting confounding covariates is not a good practice.\n",
    "If a DE gene is upregulated in the contrast that differs by protocol only (e.g. RA_7d vs EB_8d) and is even more upregulated in the contrast\n",
    "that differs by both condition and protocol, this could separately be due to protocol and to condition respectively. But removing common genes \n",
    "between the two contrasts would flag this gene as protocol-affected only which means that it would be removed even though it could actually be\n",
    "condition-affected. DE profiles have upregulated and downregulated genes, e.g. directionality. In addition many genes and gene modules are recycled between processes. Thus DE profiles cannot be compared simply by gene names and that is why most tools have internal mechanisms for modeling confounding covariates with design matrices which help isolate the confounding covariate from the covariate of interest."
   ]
  },
  {
   "cell_type": "code",
   "execution_count": null,
   "id": "90397580-8e3a-4e9a-bdb6-11f5a3332d32",
   "metadata": {},
   "outputs": [],
   "source": [
    "bc=pd.read_csv('RA_7d_eb8d-RA7d LIST EP.csv') # sample contrast DE result list of top 300 upregulated and 300 downregulated\n",
    "#most significant genes of samples that differ only by protocol\n",
    "bc.drop(columns='Unnamed: 0', inplace=True)\n",
    "bc"
   ]
  },
  {
   "cell_type": "code",
   "execution_count": null,
   "id": "7ee4c383-2a75-4f42-af47-e72bba5d7ed8",
   "metadata": {},
   "outputs": [],
   "source": [
    "protocol=list(bc['0'])\n",
    "protocol"
   ]
  },
  {
   "cell_type": "code",
   "execution_count": null,
   "id": "2d92dd82-4722-4f39-93f3-086f910a9216",
   "metadata": {},
   "outputs": [],
   "source": [
    "ac = pd.read_csv('5000_nM_RA_list_epiblast_eb8_5000.csv') # DE result top 300 upregulated and 300 downregulated\n",
    "#most significant genes of samples that differ by both protocol and condition\n",
    "ac.drop(columns='Unnamed: 0', inplace=True)\n",
    "ac"
   ]
  },
  {
   "cell_type": "code",
   "execution_count": null,
   "id": "bfccf519-1e23-4efc-b570-37bf97b5417a",
   "metadata": {},
   "outputs": [],
   "source": [
    "ac = ac[~ac['0'].isin(protocol)] # removing common significantly DE genes between the two contrasts\n",
    "ac"
   ]
  },
  {
   "cell_type": "code",
   "execution_count": null,
   "id": "7ef8024d-872e-4eea-96ca-17cc8de3e78d",
   "metadata": {},
   "outputs": [],
   "source": [
    "ac.to_csv('new_data/epiblast_5000-eb8_condition.csv')"
   ]
  },
  {
   "cell_type": "markdown",
   "id": "203db628-5f85-4aa6-8cec-80fa44107738",
   "metadata": {},
   "source": [
    "We create volcano plots to visualise significant DE genes of a contrast. The genes with large absolute log fold changes and \n",
    "smaller singificant adjusted p-values usually spread higher and to the side (the volcano plot ahs two sides for over- and under- expressed genes) and some of the top markers can be labelled by names all of which is done by the following function."
   ]
  },
  {
   "cell_type": "code",
   "execution_count": 156,
   "id": "754cca13-87c7-43e4-9c1d-1f6231dd6fe9",
   "metadata": {},
   "outputs": [],
   "source": [
    "import seaborn as sns\n",
    "from adjustText import adjust_text # creates flexible text labels which do not overlap"
   ]
  },
  {
   "cell_type": "code",
   "execution_count": 18,
   "id": "fe12882d-edb5-4da8-a6b1-1c8aa6da1b2f",
   "metadata": {},
   "outputs": [],
   "source": [
    "FDR = 0.01\n",
    "LOG_FOLD_CHANGE = 0.5\n",
    "\n",
    "def volcano_plot_from_df(df, padj, gene_name, logfold, groups, label, label_top_n=10):\n",
    "    \"\"\"\n",
    "    Volcano plot using an external DE results DataFrame. \n",
    "    Code block by: Heumos, L., Schaar, A.C., Lance, C. et al. Best practices for single-cell analysis across modalities. Nat Rev Genet 24, 550–572 (2023). \n",
    "    DOI: https://doi.org/10.1038/s41576-023-00586-w\n",
    "    see \"Single-cell best practices\" book, openly available\n",
    "    *also with input from Gen A.I. and modifications by M. K.\n",
    "    \n",
    "    Args:\n",
    "        df: pandas DataFrame with at least 'logfoldchanges', 'pvals_adj', and 'gene' columns\n",
    "        padj (str): column name with adjusted p-values\n",
    "        gene_name (str): column name with gene names\n",
    "        logfold (str): column name with log2fold changes\n",
    "        groups (list): list of str, DE groups\n",
    "        label (str): cell type with the DE groups\n",
    "        label_top_n: number of top genes (by FDR) to label with names on the plot\n",
    "    Returns:\n",
    "        None\n",
    "    \"\"\"\n",
    "    # oprionally remove some genes with the lowest p-values to improve visibility and get singificant genes\n",
    "    df[pvals] = df[pvals].replace(0, 1e-300)\n",
    "    df = df[df[\"-log10FDR\"] < 250]\n",
    "    df = df.copy()\n",
    "    df[\"-log10FDR\"] = -np.log10(df[pvals].astype(float))\n",
    "    df[\"significant\"] = (df[pvals] < FDR) & (abs(df[logfold]) > LOG_FOLD_CHANGE)\n",
    "\n",
    "\n",
    "    fig, ax = plt.subplots(figsize=(4,4))\n",
    "    sns.scatterplot(\n",
    "        data=df,\n",
    "        x=logfold,\n",
    "        y=\"-log10FDR\",\n",
    "        hue=\"significant\",\n",
    "        palette={True: \"#0D5E5D\", False: \"lightgrey\"},\n",
    "        legend=False,\n",
    "        s=6,\n",
    "        ax=ax,\n",
    "        edgecolor='none'\n",
    "    )\n",
    "\n",
    "    # threshold lines\n",
    "    ax.axhline(-np.log10(FDR), linestyle=\"--\", color=\"gray\", lw=0.5)\n",
    "    ax.axvline(-LOG_FOLD_CHANGE, linestyle=\"--\", color=\"gray\", lw=0.5)\n",
    "    ax.axvline(LOG_FOLD_CHANGE, linestyle=\"--\", color=\"gray\", lw=0.5)\n",
    "\n",
    "    # label top n genes by significance \n",
    "    top_genes = df[df[\"significant\"]].nsmallest(label_top_n, padj)\n",
    "    texts=[]\n",
    "    for _, row in top_genes.iterrows():\n",
    "        txt=ax.text(\n",
    "            row[logfold],\n",
    "            row[\"-log10FDR\"],\n",
    "            row[gene_name],\n",
    "            fontsize=7,\n",
    "            ha='right' if row[logfold] < 0 else 'left',\n",
    "            va='center'\n",
    "        )\n",
    "        texts.append(txt)\n",
    "    ax.set_ylim(0, 300 + 300 * 0.05) #to improve visibility\n",
    "    ax.set_xlim(-7, 7)\n",
    "    adjust_text(texts, ax=ax, arrowprops=dict(arrowstyle='-', color='gray', lw=0.3))\n",
    "\n",
    "    ax.set_xlabel(\"log2 Fold Change\")\n",
    "    ax.set_ylabel(\"-log10 padj\")\n",
    "    if title:\n",
    "        ax.set_title(f'{groups[0]} vs {groups[1]}\\n{label}', fontsize=12, weight='bold')\n",
    "    # fig, ax = plt.subplots(figsize=(4,3))\n",
    "    # sc.pl.umap(cell_subset, color=['sample'], ax=ax, show=False)\n",
    "    # ax.set_title(f'20_nM_RA Mesoderm vs Neural Progenitors', fontsize=12, weight='bold')\n",
    "    plt.savefig(f'new_data/plots/de/{groups[0]}-{groups[1]}_{label.replace('\\n', '_')}.png', dpi=300, bbox_inches='tight')\n",
    "    # plt.show()\n",
    "    plt.tight_layout()\n",
    "    plt.show()"
   ]
  },
  {
   "cell_type": "code",
   "execution_count": 78,
   "id": "f098e78c-6a6e-40a0-8922-ca87cfa6cc26",
   "metadata": {},
   "outputs": [
    {
     "data": {
      "image/png": "[encoded data removed]",
      "text/plain": [
       "<Figure size 400x400 with 1 Axes>"
      ]
     },
     "metadata": {},
     "output_type": "display_data"
    }
   ],
   "source": [
    "volcano_plot_from_df(a_c1, 'cardiac_meso',title=\"CardiacM 20_nM_RA vs EB_8d\", label_top_n=30)"
   ]
  },
  {
   "cell_type": "markdown",
   "id": "4ac5bdff-4c70-477f-8f02-d02b3db25bc0",
   "metadata": {},
   "source": [
    "This function gets a dataframe of DE genes and isolates the significant ones based on thresholds and then can optionally\n",
    "split the genes into highly and lowly expressed and save them as separate files (as is best for GO enrichment)"
   ]
  },
  {
   "cell_type": "code",
   "execution_count": 42,
   "id": "0072deef-6d56-4976-9ff4-351f01fd768f",
   "metadata": {},
   "outputs": [],
   "source": [
    "\n",
    "def go(filename, folder, high):\n",
    "    \"\"\"\n",
    "    Extract significant genes for ORA analysis like GO enrichment\n",
    "    Args:\n",
    "        filename (str): the filename for the DE result table\n",
    "        folder (str): folder name to save the final gene list\n",
    "        high (bool): whether we want to extract the highly or the lowly expressed significant DE genes\n",
    "    Returns:\n",
    "        None\n",
    "    \"\"\"\n",
    "    df = pd.read_csv(f'new_data/tables/{filename}') #or Tables/DE/{filename} for original results\n",
    "    if high:\n",
    "        mask = ((df['padj'] < FDR) & (abs(df['log2FoldChange'] > 0.5)) & (abs(df['log2FoldChange'] < 10)) & (df['baseMean']>=10))\n",
    "    #     s='high'\n",
    "    # else:\n",
    "    #     mask = ((df['padj'] < FDR) & (df['log2FoldChange'] < -0.5) & (df['log2FoldChange'] > -10) & (df['baseMean']>=10))\n",
    "    #     s='low'\n",
    "\n",
    "    filtered_df = df[mask]\n",
    "    filtered_df.to_csv(f'new_data/tables/{folder}/go_geneset.csv')\n",
    "    return filtered_df"
   ]
  },
  {
   "cell_type": "code",
   "execution_count": 50,
   "id": "891ceb0e-b294-426a-a5db-be1154ccc703",
   "metadata": {},
   "outputs": [
    {
     "data": {
      "text/html": [
       "<div>\n",
       "<style scoped>\n",
       "    .dataframe tbody tr th:only-of-type {\n",
       "        vertical-align: middle;\n",
       "    }\n",
       "\n",
       "    .dataframe tbody tr th {\n",
       "        vertical-align: top;\n",
       "    }\n",
       "\n",
       "    .dataframe thead th {\n",
       "        text-align: right;\n",
       "    }\n",
       "</style>\n",
       "<table border=\"1\" class=\"dataframe\">\n",
       "  <thead>\n",
       "    <tr style=\"text-align: right;\">\n",
       "      <th></th>\n",
       "      <th>gene_name</th>\n",
       "      <th>baseMean</th>\n",
       "      <th>log2FoldChange</th>\n",
       "      <th>lfcSE</th>\n",
       "      <th>stat</th>\n",
       "      <th>pvalue</th>\n",
       "      <th>padj</th>\n",
       "    </tr>\n",
       "  </thead>\n",
       "  <tbody>\n",
       "    <tr>\n",
       "      <th>25</th>\n",
       "      <td>Ncoa2</td>\n",
       "      <td>11.638665</td>\n",
       "      <td>4.567308</td>\n",
       "      <td>1.106870</td>\n",
       "      <td>4.126328</td>\n",
       "      <td>3.686011e-05</td>\n",
       "      <td>9.705765e-04</td>\n",
       "    </tr>\n",
       "    <tr>\n",
       "      <th>36</th>\n",
       "      <td>Rdh10</td>\n",
       "      <td>31.204093</td>\n",
       "      <td>1.169463</td>\n",
       "      <td>0.335834</td>\n",
       "      <td>3.482263</td>\n",
       "      <td>4.971948e-04</td>\n",
       "      <td>9.101065e-03</td>\n",
       "    </tr>\n",
       "    <tr>\n",
       "      <th>80</th>\n",
       "      <td>Cnnm3</td>\n",
       "      <td>20.108505</td>\n",
       "      <td>2.624459</td>\n",
       "      <td>0.523682</td>\n",
       "      <td>5.011547</td>\n",
       "      <td>5.399419e-07</td>\n",
       "      <td>2.380588e-05</td>\n",
       "    </tr>\n",
       "    <tr>\n",
       "      <th>92</th>\n",
       "      <td>Mgat4a</td>\n",
       "      <td>42.884882</td>\n",
       "      <td>1.189243</td>\n",
       "      <td>0.294127</td>\n",
       "      <td>4.043297</td>\n",
       "      <td>5.270468e-05</td>\n",
       "      <td>1.334817e-03</td>\n",
       "    </tr>\n",
       "    <tr>\n",
       "      <th>117</th>\n",
       "      <td>Gm8251</td>\n",
       "      <td>336.540782</td>\n",
       "      <td>0.938788</td>\n",
       "      <td>0.138434</td>\n",
       "      <td>6.781465</td>\n",
       "      <td>1.189633e-11</td>\n",
       "      <td>1.304762e-09</td>\n",
       "    </tr>\n",
       "    <tr>\n",
       "      <th>...</th>\n",
       "      <td>...</td>\n",
       "      <td>...</td>\n",
       "      <td>...</td>\n",
       "      <td>...</td>\n",
       "      <td>...</td>\n",
       "      <td>...</td>\n",
       "      <td>...</td>\n",
       "    </tr>\n",
       "    <tr>\n",
       "      <th>12936</th>\n",
       "      <td>Lman1l</td>\n",
       "      <td>99.709908</td>\n",
       "      <td>0.963327</td>\n",
       "      <td>0.204834</td>\n",
       "      <td>4.702967</td>\n",
       "      <td>2.564079e-06</td>\n",
       "      <td>9.196728e-05</td>\n",
       "    </tr>\n",
       "    <tr>\n",
       "      <th>12976</th>\n",
       "      <td>Gm40614</td>\n",
       "      <td>23.703808</td>\n",
       "      <td>3.536852</td>\n",
       "      <td>0.627231</td>\n",
       "      <td>5.638831</td>\n",
       "      <td>1.712081e-08</td>\n",
       "      <td>1.028101e-06</td>\n",
       "    </tr>\n",
       "    <tr>\n",
       "      <th>12980</th>\n",
       "      <td>1700027J07Rik</td>\n",
       "      <td>889.323975</td>\n",
       "      <td>2.347834</td>\n",
       "      <td>0.455160</td>\n",
       "      <td>5.158258</td>\n",
       "      <td>2.492583e-07</td>\n",
       "      <td>1.168872e-05</td>\n",
       "    </tr>\n",
       "    <tr>\n",
       "      <th>13112</th>\n",
       "      <td>Gm47920</td>\n",
       "      <td>116.144329</td>\n",
       "      <td>0.674763</td>\n",
       "      <td>0.187446</td>\n",
       "      <td>3.599777</td>\n",
       "      <td>3.184899e-04</td>\n",
       "      <td>6.308478e-03</td>\n",
       "    </tr>\n",
       "    <tr>\n",
       "      <th>13161</th>\n",
       "      <td>BC016579</td>\n",
       "      <td>12.959665</td>\n",
       "      <td>3.017202</td>\n",
       "      <td>0.723296</td>\n",
       "      <td>4.171464</td>\n",
       "      <td>3.026492e-05</td>\n",
       "      <td>8.199444e-04</td>\n",
       "    </tr>\n",
       "  </tbody>\n",
       "</table>\n",
       "<p>268 rows × 7 columns</p>\n",
       "</div>"
      ],
      "text/plain": [
       "           gene_name    baseMean  log2FoldChange     lfcSE      stat  \\\n",
       "25             Ncoa2   11.638665        4.567308  1.106870  4.126328   \n",
       "36             Rdh10   31.204093        1.169463  0.335834  3.482263   \n",
       "80             Cnnm3   20.108505        2.624459  0.523682  5.011547   \n",
       "92            Mgat4a   42.884882        1.189243  0.294127  4.043297   \n",
       "117           Gm8251  336.540782        0.938788  0.138434  6.781465   \n",
       "...              ...         ...             ...       ...       ...   \n",
       "12936         Lman1l   99.709908        0.963327  0.204834  4.702967   \n",
       "12976        Gm40614   23.703808        3.536852  0.627231  5.638831   \n",
       "12980  1700027J07Rik  889.323975        2.347834  0.455160  5.158258   \n",
       "13112        Gm47920  116.144329        0.674763  0.187446  3.599777   \n",
       "13161       BC016579   12.959665        3.017202  0.723296  4.171464   \n",
       "\n",
       "             pvalue          padj  \n",
       "25     3.686011e-05  9.705765e-04  \n",
       "36     4.971948e-04  9.101065e-03  \n",
       "80     5.399419e-07  2.380588e-05  \n",
       "92     5.270468e-05  1.334817e-03  \n",
       "117    1.189633e-11  1.304762e-09  \n",
       "...             ...           ...  \n",
       "12936  2.564079e-06  9.196728e-05  \n",
       "12976  1.712081e-08  1.028101e-06  \n",
       "12980  2.492583e-07  1.168872e-05  \n",
       "13112  3.184899e-04  6.308478e-03  \n",
       "13161  3.026492e-05  8.199444e-04  \n",
       "\n",
       "[268 rows x 7 columns]"
      ]
     },
     "execution_count": 50,
     "metadata": {},
     "output_type": "execute_result"
    }
   ],
   "source": [
    "go('df_stats_HE_20nMvs5000_nM_RA.csv', 'gold_HE', True)"
   ]
  },
  {
   "cell_type": "code",
   "execution_count": 2,
   "id": "33548a96-1041-4c15-9809-06b326a85b83",
   "metadata": {},
   "outputs": [],
   "source": [
    "df=go()"
   ]
  },
  {
   "cell_type": "markdown",
   "id": "b2f0a8d1-6fed-40e1-96c4-ce7f08443a77",
   "metadata": {},
   "source": [
    "References:\n",
    "1. Boris Muzellec, Maria Teleńczuk, Vincent Cabeli, Mathieu Andreux, PyDESeq2: a python package for bulk RNA-seq differential expression analysis, Bioinformatics, Volume 39, Issue 9, September 2023, btad547, https://doi.org/10.1093/bioinformatics/btad547\n",
    "2. Heumos, L., Schaar, A.C., Lance, C. et al. Best practices for single-cell analysis across modalities. Nat Rev Genet 24, 550–572 (2023). https://doi.org/10.1038/s41576-023-00586-w\n",
    "3. also see github.com/mousepixels for M. Sanbouw's implementation of DESeq2 and PyDESeq2"
   ]
  }
 ],
 "metadata": {
  "kernelspec": {
   "display_name": "Python 3 (ipykernel)",
   "language": "python",
   "name": "python3"
  },
  "language_info": {
   "codemirror_mode": {
    "name": "ipython",
    "version": 3
   },
   "file_extension": ".py",
   "mimetype": "text/x-python",
   "name": "python",
   "nbconvert_exporter": "python",
   "pygments_lexer": "ipython3",
   "version": "3.12.3"
  }
 },
 "nbformat": 4,
 "nbformat_minor": 5
}
