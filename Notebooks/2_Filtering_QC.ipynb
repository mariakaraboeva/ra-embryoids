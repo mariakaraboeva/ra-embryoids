{
 "cells": [
  {
   "cell_type": "markdown",
   "id": "b36cfb95-5417-4b17-a0ac-b298d28d019c",
   "metadata": {},
   "source": [
    "This notebook performs quality control on the valid barcode and cell-containing droplets in the Anndata object. The quality control is performed based on gene counts and specific quality metrics related to the cells' viability. Even after droplet filetring the range of UMI counts between the cells is still large and there could be dying or stressed cells (which are not as informative about the biology in the data). Such cells can have high mitochondrial counts (the mitochondrial membrane is lysed since the cell membaren is already gone) or ribosomal counts which are highly abundant transcripts and if they are the most prevalent it is likely that the other transcripts leaked out and the cell was dying. In addition there are a number of genes associated with stress such as heat-shock proteins (chaperones) and they are useful to determine the overall state even of the cells considered \"high-quality\". Scanpy has built in functions which focus on identifying quality metrics such as percentages of mitochondrial genes or count/UMI distributions in the cells."
   ]
  },
  {
   "cell_type": "code",
   "execution_count": 1,
   "id": "6f99fb63-2bf2-448c-8ddd-1cb7875f975a",
   "metadata": {},
   "outputs": [],
   "source": [
    "import matplotlib.pyplot as plt\n",
    "import scanpy as sc\n",
    "import numpy as np\n",
    "import glob\n",
    "from pathlib import Path\n",
    "import warnings"
   ]
  },
  {
   "cell_type": "markdown",
   "id": "e880d0d9-067b-4c69-a5e7-6dba7cf06c9d",
   "metadata": {},
   "source": [
    "The following functions calculate quality metrics which are added as metadata both cell-specific or gene-specific, (in .obs and .var)  and make diagnostic plots. As such every cell has individually calculated, for example, percentage mitochondrial counts or UMI number. Usually these metrics have some correlation, e.g. dying cells would have both few total counts/genes and high percentage of mitochondrial counts. Therefore scatterplots are made which place the cells in terms of both their UMI count number (x) and another specific quality metric on y."
   ]
  },
  {
   "cell_type": "code",
   "execution_count": 2,
   "id": "42e32e27-ac55-47b1-8d3f-67d85330101b",
   "metadata": {},
   "outputs": [],
   "source": [
    "def plot_pre(adata, sample, x_metric, y_metric, y_scale, thresholds, p):\n",
    "    '''\n",
    "    Plot and save QC scatterplots with threshold lines before and after filtering of data. \n",
    "\n",
    "    Args:\n",
    "        adata (Anndata): Anndata object of a single sample\n",
    "        sample (str): sample name, e.g. \"20_nM_RA\"\n",
    "        x_metric (str): quality metric name (see prepare_for_qc()) for x\n",
    "        y_metric (str): quality metric name (see prepare_for_qc()) for y\n",
    "        y_scale (float): set limit for y axis for visibility\n",
    "        thresholds (list): list of QC thresholds (floats) to plot as lines\n",
    "        p (bool): whether the data is filtered or not\n",
    "\n",
    "    Returns:\n",
    "        None\n",
    "    '''\n",
    "    fig, ax = plt.subplots(figsize=(3,3))\n",
    "    p = sc.pl.scatter(adata, x=x_metric, y=y_metric, show=False, ax=ax)\n",
    "    plt.xscale('log') # only if plotting with n_genes_by_counts or total_counts. Not log if plotting log1p_n_genes_by_counts or log1p_total_counts\n",
    "    p.set_ylim(0,y_scale * 1.1)\n",
    "    # ymin, ymax = ax.get_ylim()\n",
    "    # ax.set_ylim(ymin, ymax * 1.1) \n",
    "    # p.set_xlim(6,12) #when plotting log1p_ metrics. Otherwise disable\n",
    "    plt.ylabel(f\"Percent {y_metric[11:]} counts\")\n",
    "    plt.xlabel(f\"Total UMI counts\")\n",
    "    plt.title(label=f\"Sample '{sample}' \\n{y_metric[11:]} counts\", weight='bold', fontsize=12)\n",
    "    \n",
    "    # plot tresholds once those are determined\n",
    "    if pre:\n",
    "        if y_metric[11:] == 'ribo':\n",
    "            plt.axhline(thresholds[0], color = 'r', linestyle='dashed')\n",
    "            plt.axvline(np.expm1(float(thresholds[1])), color = 'r', linestyle='dashed') #for filtering this metric value is in \n",
    "            #log1p but we plot in non-log_1p. Adjust if needed\n",
    "        elif y_metric[11:] == 'mito':\n",
    "            plt.axhline(thresholds[4], color = 'gray', linestyle='dashed')\n",
    "            plt.axvline(thresholds[2], color = 'cyan', linestyle='dashed')\n",
    "            plt.axvline(thresholds[3], color = 'cyan', linestyle='dashed')\n",
    "            p='pre'\n",
    "    else:\n",
    "        # set it for filename\n",
    "        p='post'\n",
    "    plt.savefig(f'new_data/plots/qc/pl_{y_metric[11:]}_{sample}_{p}.png', dpi=300, bbox_inches='tight')\n",
    "    plt.show()\n",
    "    plt.close()\n",
    "\n",
    "\n",
    "\n",
    "def prepare_for_qc(adata, list_qc_genes):\n",
    "        '''\n",
    "    Prepare sample Anndata for QC by identifying quality-determining genes and \n",
    "    calculating quality metrics using these genes with scanpy \n",
    "\n",
    "    Args:\n",
    "        adata (Anndata): Anndata object of a single sample\n",
    "        list_qc_genes (list): list of str, specifically for gene metrics which require a group of specifically curated genes, e.g. stress genes instead of a \n",
    "        prefix (e.g. Rps- for ribosome genes) as is usually done for most gene metrics\n",
    "        \n",
    "    Returns:\n",
    "        Anndata object: deep copy of adata with QC metrics slots added in .obs\n",
    "        '''\n",
    "    adata.obs_names_make_unique()\n",
    "    # for gene prefixes consult the gene symbols for your data's organism\n",
    "    adata.var[\"mito\"] = adata.var['gene_name'].str.lower().str.startswith(\"mt-\", na=False)\n",
    "    adata.var[\"ribo\"] = adata.var['gene_name'].str.lower().str.startswith((\"rps\", \"rpl\"), na=False)\n",
    "    adata.var[\"hsps\"] = adata.var['gene_name'].str.lower().str.startswith(('hsp'), na=False) \n",
    "    adata.var[\"strs\"] = adata.var['gene_name'].isin(list_qc_genes.split(', ')) \n",
    "    sc.pp.calculate_qc_metrics(adata, qc_vars=[\"mito\", \"ribo\", \"hsps\", \"strs\"], inplace=True, percent_top=[20], log1p=True)\n",
    "    adata.var_names_make_unique()\n",
    "    return adata.copy()\n",
    "\n",
    "    \n",
    "def thresholds_n_filter(adata, dict_parameters, sample):\n",
    "        '''\n",
    "    Filter the sample-specific Anndata object based off the metrics. The thresholds themselves are contained within a dictionary. Filtering is either\n",
    "    manually or by scanpy functions. Also calls the plotting functions defined above. In addition, adds cell and gene amount values (int) to a dictionary\n",
    "    dict_diagn, at each QC step.\n",
    "\n",
    "    Args:\n",
    "        adata (Anndata): Anndata object of a single sample\n",
    "        dict_parameters (dict): dictionary of filtering thresholds for QC metrics. Keys: sample names (str), values: thresholds (float). \n",
    "        \n",
    "    Returns:\n",
    "        Anndata object: deep copy of adata, filtered\n",
    "        '''\n",
    "    \n",
    "    dict_diagn[sample] =[] # storing of cell and gene counts is on a sample (dataset)-specific basis\n",
    "\n",
    "    thresholds=dict_parameters[sample]\n",
    "\n",
    "    # isolated thresholds in variable names for readaility\n",
    "    ribo = dict_parameters[sample][0]  \n",
    "    second_genes = dict_parameters[sample][1]\n",
    "    min_counts= dict_parameters[sample][2]\n",
    "    max_counts=dict_parameters[sample][3]\n",
    "    mito=dict_parameters[sample][4]\n",
    "\n",
    "    #alternatively plot log1p_total_counts and then set x thresholds in the function.\n",
    "    plot_pre(adata, sample, \"total_counts\", \"pct_counts_mito\", 20, thresholds)\n",
    "    plot_pre(adata, sample, \"total_counts\", \"pct_counts_ribo\", 60, thresholds)\n",
    "\n",
    "    # store outliers in .obs slots \n",
    "    adata.obs['ribo_outlier'] = ((adata.obs['pct_counts_ribo'] > ribo) & \\\n",
    "                                 (adata.obs['log1p_total_counts'] < second_genes)) \n",
    "    adata.obs['mito_outlier'] = (adata.obs['pct_counts_mito'] > mito)\n",
    "\n",
    "    initial_obs =adata.n_obs\n",
    "\n",
    "    # remove cells with too few counts\n",
    "    sc.pp.filter_cells(adata, min_counts=min_counts)\n",
    "    min_genes_obs=initial_obs-adata.n_obs\n",
    "    dict_diagn[sample].append(min_genes_obs)\n",
    "\n",
    "    # remove cells with too many counts as they can be potential doublets (see Doublet_QC.ipynb)\n",
    "    sc.pp.filter_cells(adata, max_counts=max_counts)\n",
    "    max_genes_obs=min_genes_obs-adata.n_obs\n",
    "    dict_diagn[sample].append(max_genes_obs)\n",
    "    dict_diagn[sample].append(sum(adata.obs.ribo_outlier)) \n",
    "\n",
    "    #remove ribo outliers\n",
    "    adata = adata[(~adata.obs.ribo_outlier)] \n",
    "    dict_diagn[sample].append(sum(adata.obs.mito_outlier))\n",
    "\n",
    "    #remove mito outlier\n",
    "    adata = adata[(~adata.obs.mito_outlier)]\n",
    "\n",
    "    #we do not put the final cell number after filtering in the diagnostic object since there are other filtering steos\n",
    "    initial_var=adata.var.shape[0]\n",
    "\n",
    "    # filter out genes underexpressed after removal of cells\n",
    "    sc.pp.filter_genes(adata, min_cells=20)\n",
    "\n",
    "    #plot datasets after filtering\n",
    "    plot_pre(adata, sample, \"total_counts\", \"pct_counts_mito\", 20, thresholds)\n",
    "    plot_pre(adata, sample, \"total_counts\", \"pct_counts_ribo\", 60, thresholds)\n",
    "    dict_genes[sample].append(initial_var-adata.var.shape[0]) \n",
    "    return adata.copy()\n",
    "\n",
    "\n"
   ]
  },
  {
   "cell_type": "markdown",
   "id": "15a35b7e-f3ae-4c59-87db-d195cd1eee18",
   "metadata": {},
   "source": [
    "Dict with threshold values for filtering determined after looking at the QC plots. E.g. to remove only cells with number of genes below a certain number and ribosomal counts above a certain number."
   ]
  },
  {
   "cell_type": "code",
   "execution_count": 3,
   "id": "d6b61875-1843-40ff-b90f-c25a06dea400",
   "metadata": {},
   "outputs": [],
   "source": [
    "dict_diagn = {} # initialise dict with diagnostic values: cell number after every QC step\n",
    "dict_genes = {} # gene number\n",
    "dict_parameters = {'20_nM_RA': [21, 8, np.expm1(7.8), 30000, 10], 'ESLIF': [23, 7.9, np.expm1(7.6), 10000,10], '2i': [33, 8, np.expm1(7.4), 10000, 10],\\\n",
    "                   '5000_nM_RA': [22, 7.6, np.expm1(7.8), 35000, 10],'EB_2d': [15, 8.1, np.expm1(7.9), 25000, 10],'EB_8d': [23, 8.2, np.expm1(7.9), 30000, 10],\\\n",
    "                   'HD_2d': [10, 8.2, 1500, 30000, 10],'HD_8d': [10, 8.3, np.expm1(7.5), 40000, 10],'RA_0d': [28, 8.9, np.expm1(8.2),50000, 10], \\\n",
    "                   'RA_7d': [2, 8.3, 3500, 35000, 7.5]}"
   ]
  },
  {
   "cell_type": "markdown",
   "id": "4cae27d8-3ed7-45aa-9e98-737a52186c3b",
   "metadata": {},
   "source": [
    "Custom gene lists of interest, e.g. stress genes"
   ]
  },
  {
   "cell_type": "code",
   "execution_count": null,
   "id": "f46f3420-ea75-4ba5-8a8a-57e22ef0e56d",
   "metadata": {},
   "outputs": [],
   "source": [
    "list_qc_genes ='Fos, Fosb, Fosl1, Fosl2, Atf3, Jun, Dnaja1, Gadd45g, Endog, Pclaf' # initialised as string for ease of pasting gene lists"
   ]
  },
  {
   "cell_type": "markdown",
   "id": "a58f250d-aee4-4f80-8b37-956ec14e138f",
   "metadata": {},
   "source": [
    "To additionally view distributions of stress and other genes, violin plots can be made"
   ]
  },
  {
   "cell_type": "code",
   "execution_count": 5,
   "id": "696d57cd-0437-4dbf-ad90-3bf5476e47c2",
   "metadata": {},
   "outputs": [],
   "source": [
    "def violin(adata, sample, y_metric, metric_name):\n",
    "    '''\n",
    "    Plot and save QC violin plots for metrics such as stress genes, to visualise distribution of these across samples. \n",
    "    \n",
    "    Args:\n",
    "        adata (Anndata): Anndata object of a single sample\n",
    "        sample (str): sample name, e.g. \"20_nM_RA\"\n",
    "        y_metric (str): quality metric name (see prepare_for_qc()) for y\n",
    "\n",
    "    Returns:\n",
    "        None\n",
    "    '''\n",
    "    fig, ax = plt.subplots(figsize=(3,3))\n",
    "\n",
    "    # the y_metric is, for example, percent stress gene counts out of all counts\n",
    "    p = sc.pl.violin(adata, y_metric, show=False, ax=ax, linewidth=3, color='#069AAB', linecolor='#4E4E4E')\n",
    "    plt.ylabel(f\"Percent {metric_name} gene counts\")\n",
    "    plt.xlabel('QC metric')\n",
    "    plt.title(label=f\"{sample}\", weight='bold')\n",
    "    plt.savefig(f'new_data/plots/qc/pl_{y_metric[11:]}_{sample}.png', dpi=300, bbox_inches='tight')\n",
    "    plt.show()\n",
    "    plt.close()"
   ]
  },
  {
   "cell_type": "markdown",
   "id": "deaccc93-bae3-4e5c-8be6-8dac2fe810ee",
   "metadata": {},
   "source": [
    "Open files which were prior to this step filtered for empty droplets (the object should not generally contain millions of cells)"
   ]
  },
  {
   "cell_type": "code",
   "execution_count": 4,
   "id": "94a24348-9612-4bd1-b9fa-60487c4a9f97",
   "metadata": {},
   "outputs": [],
   "source": [
    "files = glob.glob('new_data/not_raw/**/*.*', recursive=True) \n"
   ]
  },
  {
   "cell_type": "code",
   "execution_count": null,
   "id": "07c16888-94c1-4748-a245-c9cfc44f3163",
   "metadata": {},
   "outputs": [],
   "source": [
    "for file in files:\n",
    "    sample = Path(file).parts[2]\n",
    "    adata = sc.read_h5ad(file)\n",
    "\n",
    "    #estimate quality metrics\n",
    "    adata=prepare_for_qc(adata, lis_qc_genes)\n",
    "\n",
    "    #plot stress gene plots\n",
    "    violin(adata, 'pct_counts_strs', 'Stress', sample)\n",
    "    violin(adata, 'pct_counts_hsps', 'Hsp', sample)\n",
    "\n",
    "    # this also outputs the scatterplots with the mito/ribo QC metrics\n",
    "    adata = thresholds_n_filter(adata, dict_parameters, sample)\n",
    "    adata.write_h5ad(f'new_data/qc_10x/{sample}/qc_{sample}.h5ad', compression='gzip') #export filtered files"
   ]
  },
  {
   "cell_type": "markdown",
   "id": "ecc35fe5-34e9-4e4c-ac2b-6887f7001119",
   "metadata": {},
   "source": [
    "After all QC steps additional diagnostic plots will be made visualising the number of cells and genes removed after each step. This saves the dictionaries for further use"
   ]
  },
  {
   "cell_type": "code",
   "execution_count": null,
   "id": "03c5c62c-655f-47a7-a437-647f841a2ffd",
   "metadata": {},
   "outputs": [],
   "source": [
    "# export the dict_diagn and dict_genes to file \n",
    "import pickle\n",
    "try:\n",
    "    file = open('new_data/tables/dict_diagn', 'wb')\n",
    "    pickle.dump((dict_diagn, dict_genes), file)\n",
    "    file.close()\n",
    "\n",
    "except:\n",
    "    print(\"Error\")\n",
    "\n"
   ]
  },
  {
   "cell_type": "code",
   "execution_count": null,
   "id": "a372d969-b6c2-4d7d-8284-9f00132a6ce8",
   "metadata": {},
   "outputs": [],
   "source": [
    "dict_diagn"
   ]
  },
  {
   "cell_type": "markdown",
   "id": "dec27dc8-93f3-4c7c-bffb-6f2ddad5028f",
   "metadata": {},
   "source": [
    "References:\n",
    "1. Heumos, L., Schaar, A.C., Lance, C. et al. Best practices for single-cell analysis across modalities. Nat Rev Genet 24, 550–572 (2023). https://doi.org/10.1038/s41576-023-00586-w\n",
    "2. The Galaxy Community , The Galaxy platform for accessible, reproducible, and collaborative data analyses: 2024 update, Nucleic Acids Research, Volume 52, Issue W1, 5 July 2024, Pages W83–W94, https://doi.org/10.1093/nar/gkae410, also see https://training.galaxyproject.org/training-material/topics/single-cell/tutorials/scrna-case-jupyter_basic-pipeline/tutorial.html for scatterplots like the ones here."
   ]
  }
 ],
 "metadata": {
  "kernelspec": {
   "display_name": "Python 3 (ipykernel)",
   "language": "python",
   "name": "python3"
  },
  "language_info": {
   "codemirror_mode": {
    "name": "ipython",
    "version": 3
   },
   "file_extension": ".py",
   "mimetype": "text/x-python",
   "name": "python",
   "nbconvert_exporter": "python",
   "pygments_lexer": "ipython3",
   "version": "3.12.3"
  }
 },
 "nbformat": 4,
 "nbformat_minor": 5
}
