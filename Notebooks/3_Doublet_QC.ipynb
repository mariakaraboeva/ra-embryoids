{
 "cells": [
  {
   "cell_type": "markdown",
   "id": "465167c6-6efc-4bf2-8f15-85f7b22f14f2",
   "metadata": {},
   "source": [
    "This notebook performs a quality control step which serves to identify and remove doublet cells - these are two or more cells trapped into a single doublet. These can be mixtures of cells with different identities and are not informative for biology. For example a doublet cell can seem like an intermediate cell state which does not actually exist in the data or confounding DE expression or enrichment analyses[Wolock et al, 2019].\n",
    "Scrublet is a python-based framework which specifically models doublets (two cells in a droplet). In our data we assumed that the possibility of higher-level aggregations of cells is less-significant. Doublet-identifying algorithms alleviate the need for manually needing to assess whether certain cells express transcripts that seem to be a mixture of distinct cell types. In addition such a manual method could be additinally limiting in developmental data since in less-differentiated states multiple cell-lineage markers could be transiently expressed. \n",
    "Scrublet simulates doublets by randomly combining single-cell transcriptomes from the data and then obtaining scores of existing transcriptomes based on how many doublets they can produce and other metrics. \n",
    "The concept behind the method that Wolock et al. developed is that there are embedded and neotypic droplets. The embedded ones are created from similar transcriptomes (e.g. similar cell state), they are hard to identify but are also expected to have less impact on the data. Whereas neotypic doublets are these which introduce new artifical cell states into the data but are also easier to identify since they diverge in transcriptome from other cells in the data."
   ]
  },
  {
   "cell_type": "code",
   "execution_count": 1,
   "id": "71aef64daf43f3d5",
   "metadata": {
    "ExecuteTime": {
     "end_time": "2024-12-05T22:47:21.814217Z",
     "start_time": "2024-12-05T22:47:14.592206Z"
    }
   },
   "outputs": [],
   "source": [
    "import scrublet as scr\n",
    "import matplotlib.pyplot as plt\n",
    "import scanpy as sc\n",
    "import numpy as np\n",
    "import pandas as pd\n",
    "import glob\n",
    "from pathlib import Path\n"
   ]
  },
  {
   "cell_type": "code",
   "execution_count": 9,
   "id": "923301ad-f410-4d4a-9f78-4c8b9a563cdc",
   "metadata": {},
   "outputs": [],
   "source": [
    "import matplotlib as mpl\n",
    "\n",
    "# these parameters are hard to modify on the figures Scrublet outputs\n",
    "mpl.rcParams['axes.titleweight'] = 'bold'\n",
    "mpl.rcParams['axes.titlesize'] = 12"
   ]
  },
  {
   "cell_type": "markdown",
   "id": "97aa1775-a996-4e02-93c0-16fdab8ef31a",
   "metadata": {},
   "source": [
    "Open Anndata files filtered from low-quality cells"
   ]
  },
  {
   "cell_type": "code",
   "execution_count": 3,
   "id": "a6ced498-1d69-4f3c-a500-4ec87f912d91",
   "metadata": {},
   "outputs": [],
   "source": [
    "files = glob.glob('new_data/qc_10x/**/*.*', recursive=True)\n"
   ]
  },
  {
   "cell_type": "markdown",
   "id": "c72e8638-a6f7-459e-9595-61da35dd9961",
   "metadata": {},
   "source": [
    "Determine thresholds for doublet identification upon looking at the plots"
   ]
  },
  {
   "cell_type": "code",
   "execution_count": null,
   "id": "29c9fbdf-5158-49b8-b02a-b404ae312264",
   "metadata": {},
   "outputs": [],
   "source": [
    "dict_parameters = {'20_nM_RA': 0.23, 'ESLIF': 0.21, '2i': 0.23,'5000_nM_RA': 0.2,'EB_2d': 0.23,'EB_8d': 0.24,'HD_2d': 0.14,\\\n",
    "                   'HD_8d': 0.15,'RA_0d': 0.2,'RA_7d': 0.22}"
   ]
  },
  {
   "cell_type": "markdown",
   "id": "3d4f5dc0-c366-4c16-8cff-6c4ebab3e320",
   "metadata": {},
   "source": [
    "Import the cell and gene diagnostic objects to add filtered cell/gene amount after filtering of doublets"
   ]
  },
  {
   "cell_type": "code",
   "execution_count": null,
   "id": "aa52798f-290c-4618-8728-b0d55ea8b588",
   "metadata": {},
   "outputs": [],
   "source": [
    "import pickle\n",
    "\n",
    "file = open('dict_diagn', 'rb')    \n",
    "dict_cells, dict_genes = pickle.load(file) # load the diagnostic dict from 2_Filtering_QC to store doublet number and genes after doublet filtering\n",
    "for keys in dict_cells:  #check if the dictionaries were saved properly\n",
    "    print(keys, '=>', dict_cells[keys], dict_genes[keys])\n",
    "file.close()\n"
   ]
  },
  {
   "cell_type": "markdown",
   "id": "52a937be-7bbe-4e79-a96f-07e3fa86cbee",
   "metadata": {},
   "source": [
    "These functions make plots which help differentiate between the embedded and neotypic doublets and also view doublets in a dimensionally-reduced space.\n",
    "The Scrublet KNN classifier outputs doublet scores corresponding to whether they are distinguishable from singlets in their transcriptional profile. These scores often follow a bimodal distribution where the higher scoring doublets are neotypic. Hence, at viewing such doublet score distribution plots, a threshold is put between the two peaks of the distribution and as such the neotypic doublets to be removed are identified."
   ]
  },
  {
   "cell_type": "code",
   "execution_count": 4,
   "id": "e31cfc00-5c19-4375-b91f-52efc121da99",
   "metadata": {},
   "outputs": [],
   "source": [
    "def diagnostic_plots(sample, threshold, scrub):\n",
    "    \n",
    "    '''\n",
    "    Make plots of simulated doublets from available cell transcriptomes in the data and visualise embedded vs heterotypic doublet distributions\n",
    "    on a sample specific basis.\n",
    "\n",
    "    Args:\n",
    "        sample (str): sample (dataset) name\n",
    "        threshold (float): threshold which Scrublet internally uses to plot a threshold line between embedded and heterotypic doublet distributions\n",
    "        scrub (class): Instance of the Scrublet class\n",
    "        \n",
    "    Returns:\n",
    "        None\n",
    "    '''\n",
    "    # get doublet distribution\n",
    "    scrub.call_doublets(threshold=threshold)\n",
    "    plt.figure(figsize=(4,3))\n",
    "    scrub.plot_histogram()\n",
    "    plt.title(sample, weight='bold', fontsize=12)\n",
    "    plt.savefig(f'new_data/plots/doublet/db{sample}.png', dpi=300)\n",
    "    plt.show()\n",
    "    plt.close()\n",
    "\n",
    "    \n",
    "def umaps(sample, scrub):\n",
    "        '''\n",
    "    Make UMAP plots on a sample specific basis to visualise all simulated doublets on the data vs heterotypic doublets which can be removed.\n",
    "    Useful to see if the doublet identification went well. Every cluster in the data should have its own set of doublets. Scrublet pre-processes \n",
    "    and normalises the count matrix internally for the UMAPs but does not alter it on the original Anndata objects.\n",
    "\n",
    "    Args:\n",
    "        sample (str): sample (dataset) name\n",
    "        scrub (class): Instance of the Scrublet class\n",
    "        \n",
    "    Returns:\n",
    "        None\n",
    "    '''\n",
    "\n",
    "    scrub.set_embedding('UMAP', scr.get_umap(scrub.manifold_obs_, 10, min_dist=0.3))\n",
    "    plt.figure(figsize=(3,3))\n",
    "    scrub.plot_embedding('UMAP', order_points=True)\n",
    "    plt.title(sample,weight='bold', fontsize=12)\n",
    "    plt.savefig(f'new_data/plots/doublet/{sample}_UMAP.png', dpi=300)\n",
    "    plt.show()\n",
    "    plt.close()"
   ]
  },
  {
   "cell_type": "markdown",
   "id": "f5cd4b4b-7d0a-449f-b63a-dec2129ed562",
   "metadata": {},
   "source": [
    "For each dataset a doublet simulation and filtering is performed. After filtering of cells, some genes can end up extremely lowly expressed. Single-cell data is inherently sparse and most genes have 70-90% zero-rates in the data, thus even removal of a small amount of cells can render some genes too lowly expressed."
   ]
  },
  {
   "cell_type": "code",
   "execution_count": 5,
   "id": "26bc8b6d75a68938",
   "metadata": {
    "ExecuteTime": {
     "start_time": "2024-12-05T23:21:54.914299Z"
    },
    "jupyter": {
     "is_executing": true
    }
   },
   "outputs": [],
   "source": [
    "for file in files:\n",
    "    sample = Path(file).parts[2]\n",
    "    if 'h5ad' in file:\n",
    "        adata = sc.read_h5ad(file)\n",
    "        counts = adata.X\n",
    "\n",
    "        #initialise Scrublet class (doublet rate=0.06 is, according to 10x, a suitable doublet rate for cell number of around 8000 as is in most of our\n",
    "        #sample datasets). Parameter values for genes (minimum counts and minimum number of cells expressed in), \n",
    "        # percent genes to keep as highly variable and n PCs to keep in PCA are the default values\n",
    "        scrub = scr.Scrublet(counts, expected_doublet_rate=0.06)\n",
    "        adata.obs['doublet_scores'], adata.obs['predicted_doublets'] = scrub.scrub_doublets(min_counts=2, \n",
    "                                                          min_cells=3, \n",
    "                                                          min_gene_variability_pctl=85, # estimates highly variable genes for dimensionality reduntcion\n",
    "                                                                                            #doublet simulation\n",
    "                                                          n_prin_comps=30) \n",
    "        # plot doublet bimodal distributions\n",
    "        diagnostic_plots(sample, threshold, scrub)\n",
    "        threshold = dict_parameters[sample]\n",
    "\n",
    "        # plot doublets on UMAP\n",
    "        umaps(sample, scrub)\n",
    "\n",
    "        # heterotypic doublets (the only ones readily identified)\n",
    "        adata.obs['predicted_doublets'] = adata.obs['doublet_scores'] > threshold \n",
    "        \n",
    "        dict_cells[sample].append(sum(adata.obs['predicted_doublets']== True)) # add number of doublets that are removed to diagnostic obj\n",
    "        keep = (adata.obs['predicted_doublets'] == False)\n",
    "\n",
    "        #remove doublets\n",
    "        adata = adata[keep, :]\n",
    "\n",
    "        #diagnostics\n",
    "        initial_var=adata.var.shape[0] # get number of genes\n",
    "        sc.pp.filter_genes(adata, min_cells=20)  #filter out underrepresented genes\n",
    "        dict_cells[sample].append(adata.n_obs) # final number of cells after filtering\n",
    "        dict_genes[sample].append(initial_var-adata.var.shape[0]) # removed genes added to diagnosti obj\n",
    "        \n",
    "        adata.write_h5ad(f'new_data/doublet_fil/{sample}/dbf{sample}.h5ad', compression='gzip')"
   ]
  },
  {
   "cell_type": "markdown",
   "id": "8b5c2cfd-e93c-493d-bfa4-e243873db9e2",
   "metadata": {},
   "source": [
    "Export the dictionary with filtering values"
   ]
  },
  {
   "cell_type": "code",
   "execution_count": null,
   "id": "7fefc950-bb75-4be7-9bc8-a09eb5787c2e",
   "metadata": {},
   "outputs": [],
   "source": [
    "# export the dict_cells and dict_genes to file. \n",
    "try:\n",
    "    file = open('new_data/tables/dict_diagn', 'wb')\n",
    "    pickle.dump((dict_cells, dict_genes), file)\n",
    "    file.close()\n",
    "\n",
    "except:\n",
    "    print(\"Error in saving or in the object\")"
   ]
  },
  {
   "cell_type": "markdown",
   "id": "fdbcbb3d-1d2e-4c78-8eb5-d432344b0296",
   "metadata": {},
   "source": [
    "References:\n",
    "1. Samuel L. Wolock, Romain Lopez, Allon M. Klein,\n",
    "Scrublet: Computational Identification of Cell Doublets in Single-Cell Transcriptomic Data, Cell Systems,Volume 8, Issue 4,2019, Pages 281-291.e9, ISSN 2405-4712, https://doi.org/10.1016/j.cels.2018.11.005.\n",
    "2. Zheng, G., Terry, J., Belgrader, P. et al. Massively parallel digital transcriptional profiling of single cells. Nat Commun 8, 14049 (2017). https://doi.org/10.1038/ncomms14049"
   ]
  },
  {
   "cell_type": "code",
   "execution_count": null,
   "id": "6f83395e-8b22-4c8a-acaa-d58ab96588f5",
   "metadata": {},
   "outputs": [],
   "source": []
  }
 ],
 "metadata": {
  "kernelspec": {
   "display_name": "Python 3 (ipykernel)",
   "language": "python",
   "name": "python3"
  },
  "language_info": {
   "codemirror_mode": {
    "name": "ipython",
    "version": 3
   },
   "file_extension": ".py",
   "mimetype": "text/x-python",
   "name": "python",
   "nbconvert_exporter": "python",
   "pygments_lexer": "ipython3",
   "version": "3.12.3"
  }
 },
 "nbformat": 4,
 "nbformat_minor": 5
}
